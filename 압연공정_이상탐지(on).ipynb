{
  "metadata": {
    "kernelspec": {
      "language": "python",
      "display_name": "Python 3",
      "name": "python3"
    },
    "language_info": {
      "pygments_lexer": "ipython3",
      "nbconvert_exporter": "python",
      "version": "3.6.4",
      "file_extension": ".py",
      "codemirror_mode": {
        "name": "ipython",
        "version": 3
      },
      "name": "python",
      "mimetype": "text/x-python"
    },
    "colab": {
      "name": "압연공정 이상탐지(on).ipynb",
      "provenance": [],
      "machine_shape": "hm",
      "collapsed_sections": [],
      "toc_visible": true,
      "include_colab_link": true
    },
    "gpuClass": "standard"
  },
  "nbformat_minor": 0,
  "nbformat": 4,
  "cells": [
    {
      "cell_type": "markdown",
      "metadata": {
        "id": "view-in-github",
        "colab_type": "text"
      },
      "source": [
        "<a href=\"https://colab.research.google.com/github/desunny/steel-ml/blob/dev/%EC%95%95%EC%97%B0%EA%B3%B5%EC%A0%95_%EC%9D%B4%EC%83%81%ED%83%90%EC%A7%80(on).ipynb\" target=\"_parent\"><img src=\"https://colab.research.google.com/assets/colab-badge.svg\" alt=\"Open In Colab\"/></a>"
      ]
    },
    {
      "cell_type": "markdown",
      "source": [
        "---\n",
        "* 최초 작성일 : 2022.06.09\n",
        "* 최종 수정일 : 2022.06.17\n",
        "---"
      ],
      "metadata": {
        "id": "Uol77ofMks4v"
      }
    },
    {
      "cell_type": "markdown",
      "source": [
        "#**1.개요 및 데이터 불러오기**"
      ],
      "metadata": {
        "id": "8s9eE03c8nQS"
      }
    },
    {
      "cell_type": "markdown",
      "source": [
        "##**1-1.개요**"
      ],
      "metadata": {
        "id": "GcNH8vpk89I2"
      }
    },
    {
      "cell_type": "markdown",
      "source": [
        ""
      ],
      "metadata": {
        "id": "5F_ysDRoOmrI"
      }
    },
    {
      "cell_type": "markdown",
      "source": [
        " * 이상탐지(Anomaly detection)란?\n",
        "\n",
        "    * 데이터 안에서 anomaly, outlier, abnormal과 같이 예상하지 못한 패턴을 찾는 일련의 활동을 말합니다.\n",
        "\n",
        " * 실습목표\n",
        "   * 압연설비 센서(sensor) 데이터를 사용해 제품 품질>(정상/비정상)의 이상탐지를 위한 분석모형을 실습한다.\n",
        "\n",
        " * 실습내용\n",
        "   * 분석 데이터 로드, 탐색적 데이터 분석(EDA), 시각화를 통한 데이터 특성 파악.\n",
        "   *   데이터 분리(train, test)    \n",
        "   *   이상탐지(AutoEncoder) 모델구성 및 학습.\n",
        "\n",
        " * 실습 데이터\n",
        "\n",
        "   * 압연은 제강공정을 거친 소재에 회전하는 압연기 사이를 통과하는 압력에 의하여 두께와 단면적을 감소 시키고, 길이를 늘리는 소성가공방법이다.\n",
        "\n",
        "   * 실습데이터는 센서데이터 10개와 라벨데이터 만으로 구성하였다. 참고로, 보다 정확한 이상탐지를 위해서는 더 많은 센서 데이터와 압연 후 측정된 환봉의 두께 데이터를 활용할 수 있다.\n",
        "\n",
        "   * 라벨데이터는 환봉의 목표수치를 오차 허용범위 내에서 만족하는지 여부에 따라서 정상과 비정상으로 생성하였다. 환봉의 목표 수치는 90mm 이고, 오차 허용범위는 $\\pm$1mm를 기준으로 삼았다.(정상:1, 비정상:0)   \n",
        "\n",
        "* 데이터 구성\n",
        "\n",
        "  * 데이터는 csv파일 3,400개의 데이터로 구성 되어 있다.\n",
        "\n",
        "| 컬럼      | 용도                      |\n",
        "|-----------|---------------------------|\n",
        "| sensor_1  | 센서_1 데이터             |\n",
        "| sensor_2  | 센서_2 데이터             |\n",
        "| sensor_3  | 센서_3 데이터             |\n",
        "| . ..      | ...                       |\n",
        "| sensor_9 | 센서_9 데이터            |\n",
        "| sensor_10 | 센서_10 데이터            |\n",
        "| label     | 정상(1),비정상(0)여부     |\n",
        "\n",
        "\n",
        "\n",
        "\n"
      ],
      "metadata": {
        "id": "XHunxueDaYfb"
      }
    },
    {
      "cell_type": "code",
      "source": [
        "#data clone\n",
        "!git clone https://github.com/desunny/steel-ml/"
      ],
      "metadata": {
        "colab": {
          "base_uri": "https://localhost:8080/"
        },
        "id": "cxCaot1Mnffj",
        "outputId": "cf39752a-f8c0-4b64-b63e-f886b51b7290"
      },
      "execution_count": null,
      "outputs": [
        {
          "output_type": "stream",
          "name": "stdout",
          "text": [
            "fatal: destination path 'steel-ml' already exists and is not an empty directory.\n"
          ]
        }
      ]
    },
    {
      "cell_type": "code",
      "execution_count": null,
      "metadata": {
        "id": "bNao1XywsKt-"
      },
      "outputs": [],
      "source": [
        "#자주 사용하는 라이브러리 임포트 \n",
        "import pandas as pd\n",
        "import seaborn as sns\n",
        "import numpy as np\n",
        "import matplotlib.pyplot as plt\n",
        "\n",
        "#소숫점 자리수 표시 방법 지정 \n",
        "pd.options.display.float_format = '{:.5f}'.format\n",
        "\n",
        "#경고메세지 제거 \n",
        "import warnings\n",
        "warnings.filterwarnings('ignore')"
      ]
    },
    {
      "cell_type": "markdown",
      "source": [
        "## 1-2. 데이터 불러오기"
      ],
      "metadata": {
        "id": "Exr-UaYsJi-f"
      }
    },
    {
      "cell_type": "code",
      "source": [
        "# 데이터 불러오기\n",
        "location = \"./steel-ml/datasets/steel_ai_03_on.csv\"\n",
        "df = pd.read_csv(location, header=0)\n",
        "df.head()"
      ],
      "metadata": {
        "execution": {
          "iopub.status.busy": "2022-01-21T11:22:21.544017Z",
          "iopub.execute_input": "2022-01-21T11:22:21.544253Z",
          "iopub.status.idle": "2022-01-21T11:22:21.896374Z",
          "shell.execute_reply.started": "2022-01-21T11:22:21.544231Z",
          "shell.execute_reply": "2022-01-21T11:22:21.895357Z"
        },
        "trusted": true,
        "colab": {
          "base_uri": "https://localhost:8080/",
          "height": 206
        },
        "id": "acn4aNrJaYfh",
        "outputId": "2a0f06dd-4a79-4667-b388-d169f7b2301a"
      },
      "execution_count": null,
      "outputs": [
        {
          "output_type": "execute_result",
          "data": {
            "text/plain": [
              "   sensor_1  sensor_2  sensor_3  sensor_4  sensor_5  sensor_6  sensor_7  \\\n",
              "0  12.76411  11.49163  10.49584  10.21551   9.14900  10.58604   8.17434   \n",
              "1  10.45196  12.65341  12.81982  13.50285  10.74295  11.42360  12.97196   \n",
              "2  12.27593  10.40335  11.90628  11.77770  10.90694  12.61421  12.03149   \n",
              "3  12.06943   9.56267  11.76172  12.30023  10.44920  13.60143  13.70954   \n",
              "4  10.96392  11.28788  10.43547  13.11737  12.12428  10.89717  10.24463   \n",
              "\n",
              "   sensor_8  sensor_9  sensor_10  label  \n",
              "0   8.59743  11.84749    8.14485      1  \n",
              "1  11.77719   9.72817    7.25627      1  \n",
              "2  13.55872  11.80927   11.89388      1  \n",
              "3  10.64105  10.44456   12.83846      1  \n",
              "4  11.36329  11.50155   11.80204      1  "
            ],
            "text/html": [
              "\n",
              "  <div id=\"df-30a0986f-b8f8-4af4-a042-cc3a1ea28bb5\">\n",
              "    <div class=\"colab-df-container\">\n",
              "      <div>\n",
              "<style scoped>\n",
              "    .dataframe tbody tr th:only-of-type {\n",
              "        vertical-align: middle;\n",
              "    }\n",
              "\n",
              "    .dataframe tbody tr th {\n",
              "        vertical-align: top;\n",
              "    }\n",
              "\n",
              "    .dataframe thead th {\n",
              "        text-align: right;\n",
              "    }\n",
              "</style>\n",
              "<table border=\"1\" class=\"dataframe\">\n",
              "  <thead>\n",
              "    <tr style=\"text-align: right;\">\n",
              "      <th></th>\n",
              "      <th>sensor_1</th>\n",
              "      <th>sensor_2</th>\n",
              "      <th>sensor_3</th>\n",
              "      <th>sensor_4</th>\n",
              "      <th>sensor_5</th>\n",
              "      <th>sensor_6</th>\n",
              "      <th>sensor_7</th>\n",
              "      <th>sensor_8</th>\n",
              "      <th>sensor_9</th>\n",
              "      <th>sensor_10</th>\n",
              "      <th>label</th>\n",
              "    </tr>\n",
              "  </thead>\n",
              "  <tbody>\n",
              "    <tr>\n",
              "      <th>0</th>\n",
              "      <td>12.76411</td>\n",
              "      <td>11.49163</td>\n",
              "      <td>10.49584</td>\n",
              "      <td>10.21551</td>\n",
              "      <td>9.14900</td>\n",
              "      <td>10.58604</td>\n",
              "      <td>8.17434</td>\n",
              "      <td>8.59743</td>\n",
              "      <td>11.84749</td>\n",
              "      <td>8.14485</td>\n",
              "      <td>1</td>\n",
              "    </tr>\n",
              "    <tr>\n",
              "      <th>1</th>\n",
              "      <td>10.45196</td>\n",
              "      <td>12.65341</td>\n",
              "      <td>12.81982</td>\n",
              "      <td>13.50285</td>\n",
              "      <td>10.74295</td>\n",
              "      <td>11.42360</td>\n",
              "      <td>12.97196</td>\n",
              "      <td>11.77719</td>\n",
              "      <td>9.72817</td>\n",
              "      <td>7.25627</td>\n",
              "      <td>1</td>\n",
              "    </tr>\n",
              "    <tr>\n",
              "      <th>2</th>\n",
              "      <td>12.27593</td>\n",
              "      <td>10.40335</td>\n",
              "      <td>11.90628</td>\n",
              "      <td>11.77770</td>\n",
              "      <td>10.90694</td>\n",
              "      <td>12.61421</td>\n",
              "      <td>12.03149</td>\n",
              "      <td>13.55872</td>\n",
              "      <td>11.80927</td>\n",
              "      <td>11.89388</td>\n",
              "      <td>1</td>\n",
              "    </tr>\n",
              "    <tr>\n",
              "      <th>3</th>\n",
              "      <td>12.06943</td>\n",
              "      <td>9.56267</td>\n",
              "      <td>11.76172</td>\n",
              "      <td>12.30023</td>\n",
              "      <td>10.44920</td>\n",
              "      <td>13.60143</td>\n",
              "      <td>13.70954</td>\n",
              "      <td>10.64105</td>\n",
              "      <td>10.44456</td>\n",
              "      <td>12.83846</td>\n",
              "      <td>1</td>\n",
              "    </tr>\n",
              "    <tr>\n",
              "      <th>4</th>\n",
              "      <td>10.96392</td>\n",
              "      <td>11.28788</td>\n",
              "      <td>10.43547</td>\n",
              "      <td>13.11737</td>\n",
              "      <td>12.12428</td>\n",
              "      <td>10.89717</td>\n",
              "      <td>10.24463</td>\n",
              "      <td>11.36329</td>\n",
              "      <td>11.50155</td>\n",
              "      <td>11.80204</td>\n",
              "      <td>1</td>\n",
              "    </tr>\n",
              "  </tbody>\n",
              "</table>\n",
              "</div>\n",
              "      <button class=\"colab-df-convert\" onclick=\"convertToInteractive('df-30a0986f-b8f8-4af4-a042-cc3a1ea28bb5')\"\n",
              "              title=\"Convert this dataframe to an interactive table.\"\n",
              "              style=\"display:none;\">\n",
              "        \n",
              "  <svg xmlns=\"http://www.w3.org/2000/svg\" height=\"24px\"viewBox=\"0 0 24 24\"\n",
              "       width=\"24px\">\n",
              "    <path d=\"M0 0h24v24H0V0z\" fill=\"none\"/>\n",
              "    <path d=\"M18.56 5.44l.94 2.06.94-2.06 2.06-.94-2.06-.94-.94-2.06-.94 2.06-2.06.94zm-11 1L8.5 8.5l.94-2.06 2.06-.94-2.06-.94L8.5 2.5l-.94 2.06-2.06.94zm10 10l.94 2.06.94-2.06 2.06-.94-2.06-.94-.94-2.06-.94 2.06-2.06.94z\"/><path d=\"M17.41 7.96l-1.37-1.37c-.4-.4-.92-.59-1.43-.59-.52 0-1.04.2-1.43.59L10.3 9.45l-7.72 7.72c-.78.78-.78 2.05 0 2.83L4 21.41c.39.39.9.59 1.41.59.51 0 1.02-.2 1.41-.59l7.78-7.78 2.81-2.81c.8-.78.8-2.07 0-2.86zM5.41 20L4 18.59l7.72-7.72 1.47 1.35L5.41 20z\"/>\n",
              "  </svg>\n",
              "      </button>\n",
              "      \n",
              "  <style>\n",
              "    .colab-df-container {\n",
              "      display:flex;\n",
              "      flex-wrap:wrap;\n",
              "      gap: 12px;\n",
              "    }\n",
              "\n",
              "    .colab-df-convert {\n",
              "      background-color: #E8F0FE;\n",
              "      border: none;\n",
              "      border-radius: 50%;\n",
              "      cursor: pointer;\n",
              "      display: none;\n",
              "      fill: #1967D2;\n",
              "      height: 32px;\n",
              "      padding: 0 0 0 0;\n",
              "      width: 32px;\n",
              "    }\n",
              "\n",
              "    .colab-df-convert:hover {\n",
              "      background-color: #E2EBFA;\n",
              "      box-shadow: 0px 1px 2px rgba(60, 64, 67, 0.3), 0px 1px 3px 1px rgba(60, 64, 67, 0.15);\n",
              "      fill: #174EA6;\n",
              "    }\n",
              "\n",
              "    [theme=dark] .colab-df-convert {\n",
              "      background-color: #3B4455;\n",
              "      fill: #D2E3FC;\n",
              "    }\n",
              "\n",
              "    [theme=dark] .colab-df-convert:hover {\n",
              "      background-color: #434B5C;\n",
              "      box-shadow: 0px 1px 3px 1px rgba(0, 0, 0, 0.15);\n",
              "      filter: drop-shadow(0px 1px 2px rgba(0, 0, 0, 0.3));\n",
              "      fill: #FFFFFF;\n",
              "    }\n",
              "  </style>\n",
              "\n",
              "      <script>\n",
              "        const buttonEl =\n",
              "          document.querySelector('#df-30a0986f-b8f8-4af4-a042-cc3a1ea28bb5 button.colab-df-convert');\n",
              "        buttonEl.style.display =\n",
              "          google.colab.kernel.accessAllowed ? 'block' : 'none';\n",
              "\n",
              "        async function convertToInteractive(key) {\n",
              "          const element = document.querySelector('#df-30a0986f-b8f8-4af4-a042-cc3a1ea28bb5');\n",
              "          const dataTable =\n",
              "            await google.colab.kernel.invokeFunction('convertToInteractive',\n",
              "                                                     [key], {});\n",
              "          if (!dataTable) return;\n",
              "\n",
              "          const docLinkHtml = 'Like what you see? Visit the ' +\n",
              "            '<a target=\"_blank\" href=https://colab.research.google.com/notebooks/data_table.ipynb>data table notebook</a>'\n",
              "            + ' to learn more about interactive tables.';\n",
              "          element.innerHTML = '';\n",
              "          dataTable['output_type'] = 'display_data';\n",
              "          await google.colab.output.renderOutput(dataTable, element);\n",
              "          const docLink = document.createElement('div');\n",
              "          docLink.innerHTML = docLinkHtml;\n",
              "          element.appendChild(docLink);\n",
              "        }\n",
              "      </script>\n",
              "    </div>\n",
              "  </div>\n",
              "  "
            ]
          },
          "metadata": {},
          "execution_count": 70
        }
      ]
    },
    {
      "cell_type": "markdown",
      "source": [
        "##1-3.데이터 확인\n",
        "\n",
        "\n"
      ],
      "metadata": {
        "id": "Gyg7Hu4J9eCU"
      }
    },
    {
      "cell_type": "markdown",
      "source": [
        "* 데이터셋 정보 확인"
      ],
      "metadata": {
        "id": "tiq75V8IJrng"
      }
    },
    {
      "cell_type": "code",
      "source": [
        "df.info()"
      ],
      "metadata": {
        "colab": {
          "base_uri": "https://localhost:8080/"
        },
        "id": "BZK_lqXtqZlr",
        "outputId": "5b0c0f04-29d4-4029-9324-ce2feac43b5e"
      },
      "execution_count": null,
      "outputs": [
        {
          "output_type": "stream",
          "name": "stdout",
          "text": [
            "<class 'pandas.core.frame.DataFrame'>\n",
            "RangeIndex: 3400 entries, 0 to 3399\n",
            "Data columns (total 11 columns):\n",
            " #   Column     Non-Null Count  Dtype  \n",
            "---  ------     --------------  -----  \n",
            " 0   sensor_1   3400 non-null   float64\n",
            " 1   sensor_2   3400 non-null   float64\n",
            " 2   sensor_3   3400 non-null   float64\n",
            " 3   sensor_4   3400 non-null   float64\n",
            " 4   sensor_5   3400 non-null   float64\n",
            " 5   sensor_6   3400 non-null   float64\n",
            " 6   sensor_7   3400 non-null   float64\n",
            " 7   sensor_8   3400 non-null   float64\n",
            " 8   sensor_9   3400 non-null   float64\n",
            " 9   sensor_10  3400 non-null   float64\n",
            " 10  label      3400 non-null   int64  \n",
            "dtypes: float64(10), int64(1)\n",
            "memory usage: 292.3 KB\n"
          ]
        }
      ]
    },
    {
      "cell_type": "markdown",
      "source": [
        "* 데이터 형태 및 요약정보 확인"
      ],
      "metadata": {
        "id": "MpBk2rqRlPKj"
      }
    },
    {
      "cell_type": "code",
      "source": [
        "print(df.shape) # 데이터 행과열\n",
        "df.describe(include='all').T # 데이터 요약 정보 "
      ],
      "metadata": {
        "colab": {
          "base_uri": "https://localhost:8080/",
          "height": 412
        },
        "id": "JNLh1kLtFD6Z",
        "outputId": "01bf0736-0382-4a0d-a2e4-a51898326846"
      },
      "execution_count": null,
      "outputs": [
        {
          "output_type": "stream",
          "name": "stdout",
          "text": [
            "(3400, 11)\n"
          ]
        },
        {
          "output_type": "execute_result",
          "data": {
            "text/plain": [
              "               count     mean     std     min      25%      50%      75%  \\\n",
              "sensor_1  3400.00000 11.39115 1.35528 6.35608 10.52974 11.49532 12.42500   \n",
              "sensor_2  3400.00000 11.48866 1.48368 5.70008 10.69674 11.63229 12.59696   \n",
              "sensor_3  3400.00000 11.47649 1.57640 5.80968 10.70578 11.68336 12.65753   \n",
              "sensor_4  3400.00000 11.38348 1.74099 5.60198 10.61089 11.64442 12.62799   \n",
              "sensor_5  3400.00000 11.18524 1.87517 5.16556 10.29060 11.48869 12.56961   \n",
              "sensor_6  3400.00000 10.99852 1.88230 5.14260  9.99334 11.27507 12.39994   \n",
              "sensor_7  3400.00000 10.91746 1.81211 4.78578  9.90023 11.16038 12.23420   \n",
              "sensor_8  3400.00000 11.00919 1.67586 4.66189 10.01450 11.19943 12.22752   \n",
              "sensor_9  3400.00000 11.14139 1.65594 4.47711 10.11527 11.26711 12.34856   \n",
              "sensor_10 3400.00000 10.40251 1.62589 4.64467  9.33719 10.46571 11.57678   \n",
              "label     3400.00000  0.83324 0.37282 0.00000  1.00000  1.00000  1.00000   \n",
              "\n",
              "               max  \n",
              "sensor_1  14.73135  \n",
              "sensor_2  14.56107  \n",
              "sensor_3  15.24716  \n",
              "sensor_4  14.84943  \n",
              "sensor_5  15.24944  \n",
              "sensor_6  14.94281  \n",
              "sensor_7  14.78861  \n",
              "sensor_8  15.59032  \n",
              "sensor_9  15.13125  \n",
              "sensor_10 15.91158  \n",
              "label      1.00000  "
            ],
            "text/html": [
              "\n",
              "  <div id=\"df-d8fce88d-fc91-4ae6-a067-f868cd6586b5\">\n",
              "    <div class=\"colab-df-container\">\n",
              "      <div>\n",
              "<style scoped>\n",
              "    .dataframe tbody tr th:only-of-type {\n",
              "        vertical-align: middle;\n",
              "    }\n",
              "\n",
              "    .dataframe tbody tr th {\n",
              "        vertical-align: top;\n",
              "    }\n",
              "\n",
              "    .dataframe thead th {\n",
              "        text-align: right;\n",
              "    }\n",
              "</style>\n",
              "<table border=\"1\" class=\"dataframe\">\n",
              "  <thead>\n",
              "    <tr style=\"text-align: right;\">\n",
              "      <th></th>\n",
              "      <th>count</th>\n",
              "      <th>mean</th>\n",
              "      <th>std</th>\n",
              "      <th>min</th>\n",
              "      <th>25%</th>\n",
              "      <th>50%</th>\n",
              "      <th>75%</th>\n",
              "      <th>max</th>\n",
              "    </tr>\n",
              "  </thead>\n",
              "  <tbody>\n",
              "    <tr>\n",
              "      <th>sensor_1</th>\n",
              "      <td>3400.00000</td>\n",
              "      <td>11.39115</td>\n",
              "      <td>1.35528</td>\n",
              "      <td>6.35608</td>\n",
              "      <td>10.52974</td>\n",
              "      <td>11.49532</td>\n",
              "      <td>12.42500</td>\n",
              "      <td>14.73135</td>\n",
              "    </tr>\n",
              "    <tr>\n",
              "      <th>sensor_2</th>\n",
              "      <td>3400.00000</td>\n",
              "      <td>11.48866</td>\n",
              "      <td>1.48368</td>\n",
              "      <td>5.70008</td>\n",
              "      <td>10.69674</td>\n",
              "      <td>11.63229</td>\n",
              "      <td>12.59696</td>\n",
              "      <td>14.56107</td>\n",
              "    </tr>\n",
              "    <tr>\n",
              "      <th>sensor_3</th>\n",
              "      <td>3400.00000</td>\n",
              "      <td>11.47649</td>\n",
              "      <td>1.57640</td>\n",
              "      <td>5.80968</td>\n",
              "      <td>10.70578</td>\n",
              "      <td>11.68336</td>\n",
              "      <td>12.65753</td>\n",
              "      <td>15.24716</td>\n",
              "    </tr>\n",
              "    <tr>\n",
              "      <th>sensor_4</th>\n",
              "      <td>3400.00000</td>\n",
              "      <td>11.38348</td>\n",
              "      <td>1.74099</td>\n",
              "      <td>5.60198</td>\n",
              "      <td>10.61089</td>\n",
              "      <td>11.64442</td>\n",
              "      <td>12.62799</td>\n",
              "      <td>14.84943</td>\n",
              "    </tr>\n",
              "    <tr>\n",
              "      <th>sensor_5</th>\n",
              "      <td>3400.00000</td>\n",
              "      <td>11.18524</td>\n",
              "      <td>1.87517</td>\n",
              "      <td>5.16556</td>\n",
              "      <td>10.29060</td>\n",
              "      <td>11.48869</td>\n",
              "      <td>12.56961</td>\n",
              "      <td>15.24944</td>\n",
              "    </tr>\n",
              "    <tr>\n",
              "      <th>sensor_6</th>\n",
              "      <td>3400.00000</td>\n",
              "      <td>10.99852</td>\n",
              "      <td>1.88230</td>\n",
              "      <td>5.14260</td>\n",
              "      <td>9.99334</td>\n",
              "      <td>11.27507</td>\n",
              "      <td>12.39994</td>\n",
              "      <td>14.94281</td>\n",
              "    </tr>\n",
              "    <tr>\n",
              "      <th>sensor_7</th>\n",
              "      <td>3400.00000</td>\n",
              "      <td>10.91746</td>\n",
              "      <td>1.81211</td>\n",
              "      <td>4.78578</td>\n",
              "      <td>9.90023</td>\n",
              "      <td>11.16038</td>\n",
              "      <td>12.23420</td>\n",
              "      <td>14.78861</td>\n",
              "    </tr>\n",
              "    <tr>\n",
              "      <th>sensor_8</th>\n",
              "      <td>3400.00000</td>\n",
              "      <td>11.00919</td>\n",
              "      <td>1.67586</td>\n",
              "      <td>4.66189</td>\n",
              "      <td>10.01450</td>\n",
              "      <td>11.19943</td>\n",
              "      <td>12.22752</td>\n",
              "      <td>15.59032</td>\n",
              "    </tr>\n",
              "    <tr>\n",
              "      <th>sensor_9</th>\n",
              "      <td>3400.00000</td>\n",
              "      <td>11.14139</td>\n",
              "      <td>1.65594</td>\n",
              "      <td>4.47711</td>\n",
              "      <td>10.11527</td>\n",
              "      <td>11.26711</td>\n",
              "      <td>12.34856</td>\n",
              "      <td>15.13125</td>\n",
              "    </tr>\n",
              "    <tr>\n",
              "      <th>sensor_10</th>\n",
              "      <td>3400.00000</td>\n",
              "      <td>10.40251</td>\n",
              "      <td>1.62589</td>\n",
              "      <td>4.64467</td>\n",
              "      <td>9.33719</td>\n",
              "      <td>10.46571</td>\n",
              "      <td>11.57678</td>\n",
              "      <td>15.91158</td>\n",
              "    </tr>\n",
              "    <tr>\n",
              "      <th>label</th>\n",
              "      <td>3400.00000</td>\n",
              "      <td>0.83324</td>\n",
              "      <td>0.37282</td>\n",
              "      <td>0.00000</td>\n",
              "      <td>1.00000</td>\n",
              "      <td>1.00000</td>\n",
              "      <td>1.00000</td>\n",
              "      <td>1.00000</td>\n",
              "    </tr>\n",
              "  </tbody>\n",
              "</table>\n",
              "</div>\n",
              "      <button class=\"colab-df-convert\" onclick=\"convertToInteractive('df-d8fce88d-fc91-4ae6-a067-f868cd6586b5')\"\n",
              "              title=\"Convert this dataframe to an interactive table.\"\n",
              "              style=\"display:none;\">\n",
              "        \n",
              "  <svg xmlns=\"http://www.w3.org/2000/svg\" height=\"24px\"viewBox=\"0 0 24 24\"\n",
              "       width=\"24px\">\n",
              "    <path d=\"M0 0h24v24H0V0z\" fill=\"none\"/>\n",
              "    <path d=\"M18.56 5.44l.94 2.06.94-2.06 2.06-.94-2.06-.94-.94-2.06-.94 2.06-2.06.94zm-11 1L8.5 8.5l.94-2.06 2.06-.94-2.06-.94L8.5 2.5l-.94 2.06-2.06.94zm10 10l.94 2.06.94-2.06 2.06-.94-2.06-.94-.94-2.06-.94 2.06-2.06.94z\"/><path d=\"M17.41 7.96l-1.37-1.37c-.4-.4-.92-.59-1.43-.59-.52 0-1.04.2-1.43.59L10.3 9.45l-7.72 7.72c-.78.78-.78 2.05 0 2.83L4 21.41c.39.39.9.59 1.41.59.51 0 1.02-.2 1.41-.59l7.78-7.78 2.81-2.81c.8-.78.8-2.07 0-2.86zM5.41 20L4 18.59l7.72-7.72 1.47 1.35L5.41 20z\"/>\n",
              "  </svg>\n",
              "      </button>\n",
              "      \n",
              "  <style>\n",
              "    .colab-df-container {\n",
              "      display:flex;\n",
              "      flex-wrap:wrap;\n",
              "      gap: 12px;\n",
              "    }\n",
              "\n",
              "    .colab-df-convert {\n",
              "      background-color: #E8F0FE;\n",
              "      border: none;\n",
              "      border-radius: 50%;\n",
              "      cursor: pointer;\n",
              "      display: none;\n",
              "      fill: #1967D2;\n",
              "      height: 32px;\n",
              "      padding: 0 0 0 0;\n",
              "      width: 32px;\n",
              "    }\n",
              "\n",
              "    .colab-df-convert:hover {\n",
              "      background-color: #E2EBFA;\n",
              "      box-shadow: 0px 1px 2px rgba(60, 64, 67, 0.3), 0px 1px 3px 1px rgba(60, 64, 67, 0.15);\n",
              "      fill: #174EA6;\n",
              "    }\n",
              "\n",
              "    [theme=dark] .colab-df-convert {\n",
              "      background-color: #3B4455;\n",
              "      fill: #D2E3FC;\n",
              "    }\n",
              "\n",
              "    [theme=dark] .colab-df-convert:hover {\n",
              "      background-color: #434B5C;\n",
              "      box-shadow: 0px 1px 3px 1px rgba(0, 0, 0, 0.15);\n",
              "      filter: drop-shadow(0px 1px 2px rgba(0, 0, 0, 0.3));\n",
              "      fill: #FFFFFF;\n",
              "    }\n",
              "  </style>\n",
              "\n",
              "      <script>\n",
              "        const buttonEl =\n",
              "          document.querySelector('#df-d8fce88d-fc91-4ae6-a067-f868cd6586b5 button.colab-df-convert');\n",
              "        buttonEl.style.display =\n",
              "          google.colab.kernel.accessAllowed ? 'block' : 'none';\n",
              "\n",
              "        async function convertToInteractive(key) {\n",
              "          const element = document.querySelector('#df-d8fce88d-fc91-4ae6-a067-f868cd6586b5');\n",
              "          const dataTable =\n",
              "            await google.colab.kernel.invokeFunction('convertToInteractive',\n",
              "                                                     [key], {});\n",
              "          if (!dataTable) return;\n",
              "\n",
              "          const docLinkHtml = 'Like what you see? Visit the ' +\n",
              "            '<a target=\"_blank\" href=https://colab.research.google.com/notebooks/data_table.ipynb>data table notebook</a>'\n",
              "            + ' to learn more about interactive tables.';\n",
              "          element.innerHTML = '';\n",
              "          dataTable['output_type'] = 'display_data';\n",
              "          await google.colab.output.renderOutput(dataTable, element);\n",
              "          const docLink = document.createElement('div');\n",
              "          docLink.innerHTML = docLinkHtml;\n",
              "          element.appendChild(docLink);\n",
              "        }\n",
              "      </script>\n",
              "    </div>\n",
              "  </div>\n",
              "  "
            ]
          },
          "metadata": {},
          "execution_count": 72
        }
      ]
    },
    {
      "cell_type": "markdown",
      "source": [
        "* 데이터 null값 확인"
      ],
      "metadata": {
        "id": "tdTzr7J9lnx-"
      }
    },
    {
      "cell_type": "code",
      "source": [
        "df.isnull().sum()   #데이터 null값 확인(합계) \n"
      ],
      "metadata": {
        "id": "KpS9LAwxQSYg",
        "colab": {
          "base_uri": "https://localhost:8080/"
        },
        "outputId": "63b0e6c3-dade-404a-a50f-a65f020cffb8"
      },
      "execution_count": null,
      "outputs": [
        {
          "output_type": "execute_result",
          "data": {
            "text/plain": [
              "sensor_1     0\n",
              "sensor_2     0\n",
              "sensor_3     0\n",
              "sensor_4     0\n",
              "sensor_5     0\n",
              "sensor_6     0\n",
              "sensor_7     0\n",
              "sensor_8     0\n",
              "sensor_9     0\n",
              "sensor_10    0\n",
              "label        0\n",
              "dtype: int64"
            ]
          },
          "metadata": {},
          "execution_count": 73
        }
      ]
    },
    {
      "cell_type": "markdown",
      "source": [
        "# **2. 데이터 탐색** <br>"
      ],
      "metadata": {
        "id": "kCRtG2O6aYfg"
      }
    },
    {
      "cell_type": "markdown",
      "source": [
        "---\n",
        "데이터 탐색 파트는 아래 순서로 진행됨<br>\n",
        "2-1. 분포 확인<br>\n",
        "2-2. 종속변수 생성<br>\n",
        "\n",
        "---"
      ],
      "metadata": {
        "id": "8ZD4Ia_a987e"
      }
    },
    {
      "cell_type": "markdown",
      "source": [
        "## 2-1. 분포확인"
      ],
      "metadata": {
        "id": "cLT9NnyomFhj"
      }
    },
    {
      "cell_type": "markdown",
      "source": [
        "* 시각화 및 분석을 위한 컬럼명 변수저장"
      ],
      "metadata": {
        "id": "x6vLa09FlvBH"
      }
    },
    {
      "cell_type": "code",
      "source": [
        "# sensor_cols length \n",
        "len_of_sensor_cols = (len(df.T))\n",
        "\n",
        "# 시각화를 위한 컬럼명 변수저장\n",
        "# 센서 컬럼 리스트\n",
        "sensor_cols = []\n",
        "for x in range(1,len_of_sensor_cols):\n",
        "    sensor_cols.append('sensor_'+str(x))\n",
        "print('sensor_cols : ',sensor_cols)\n",
        "\n",
        "# 지름측정 컬럼 리스트\n",
        "label = ['label']\n",
        "print('label : ',label)"
      ],
      "metadata": {
        "colab": {
          "base_uri": "https://localhost:8080/"
        },
        "id": "9u1FbxXm1fmT",
        "outputId": "3d73ba26-5ca1-43a9-f9c5-3ec63cb5535e"
      },
      "execution_count": null,
      "outputs": [
        {
          "output_type": "stream",
          "name": "stdout",
          "text": [
            "sensor_cols :  ['sensor_1', 'sensor_2', 'sensor_3', 'sensor_4', 'sensor_5', 'sensor_6', 'sensor_7', 'sensor_8', 'sensor_9', 'sensor_10']\n",
            "label :  ['label']\n"
          ]
        }
      ]
    },
    {
      "cell_type": "markdown",
      "source": [
        "* 센서의 분포"
      ],
      "metadata": {
        "id": "iHRw-zQjzY1G"
      }
    },
    {
      "cell_type": "code",
      "source": [
        "f, axes = plt.subplots(2, 5, figsize=(28, 20))\n",
        "col_no = 0\n",
        "for x in range(0,2):\n",
        "    for y in range(0,5):\n",
        "        ax = sns.histplot(df[sensor_cols[col_no]], bins=20,  color=\"blue\", alpha=0.5, kde=True, ax=axes[x, y])\n",
        "        ax.grid(b=True)\n",
        "        ax.set(xlabel=\"\",ylabel=\"count\" ,title=sensor_cols[col_no])\n",
        "        col_no +=1\n",
        "        "
      ],
      "metadata": {
        "colab": {
          "base_uri": "https://localhost:8080/",
          "height": 1000
        },
        "id": "sqjn80SqYuLa",
        "outputId": "5e0e1d6e-0f2e-4328-ac44-cd23e2583d42"
      },
      "execution_count": null,
      "outputs": [
        {
          "output_type": "display_data",
          "data": {
            "text/plain": [
              "<Figure size 2016x1440 with 10 Axes>"
            ],
            "image/png": "[encoded data removed]"
          },
          "metadata": {
            "needs_background": "light"
          }
        }
      ]
    },
    {
      "cell_type": "markdown",
      "source": [
        "* label의 분포"
      ],
      "metadata": {
        "id": "aHnJ9PB-mtGH"
      }
    },
    {
      "cell_type": "code",
      "source": [
        "labels = ['Normal','Anomaly']\n",
        "value_df = pd.DataFrame(df['label'].value_counts())\n",
        "display(value_df.T)\n",
        "\n",
        "plt.figure(figsize = (6, 6))\n",
        "colors = sns.color_palette('pastel')[0:5]\n",
        "#create pie chart\n",
        "plt.pie(value_df.T, labels = labels, colors = colors, autopct='%.0f%%')"
      ],
      "metadata": {
        "colab": {
          "base_uri": "https://localhost:8080/",
          "height": 525
        },
        "id": "H1fmeJz_OOd8",
        "outputId": "882ad809-c4af-44a0-ada9-b14d6033c43a"
      },
      "execution_count": null,
      "outputs": [
        {
          "output_type": "display_data",
          "data": {
            "text/plain": [
              "          1    0\n",
              "label  2833  567"
            ],
            "text/html": [
              "\n",
              "  <div id=\"df-e2004d9e-3690-4e94-a407-a1ffc59cc227\">\n",
              "    <div class=\"colab-df-container\">\n",
              "      <div>\n",
              "<style scoped>\n",
              "    .dataframe tbody tr th:only-of-type {\n",
              "        vertical-align: middle;\n",
              "    }\n",
              "\n",
              "    .dataframe tbody tr th {\n",
              "        vertical-align: top;\n",
              "    }\n",
              "\n",
              "    .dataframe thead th {\n",
              "        text-align: right;\n",
              "    }\n",
              "</style>\n",
              "<table border=\"1\" class=\"dataframe\">\n",
              "  <thead>\n",
              "    <tr style=\"text-align: right;\">\n",
              "      <th></th>\n",
              "      <th>1</th>\n",
              "      <th>0</th>\n",
              "    </tr>\n",
              "  </thead>\n",
              "  <tbody>\n",
              "    <tr>\n",
              "      <th>label</th>\n",
              "      <td>2833</td>\n",
              "      <td>567</td>\n",
              "    </tr>\n",
              "  </tbody>\n",
              "</table>\n",
              "</div>\n",
              "      <button class=\"colab-df-convert\" onclick=\"convertToInteractive('df-e2004d9e-3690-4e94-a407-a1ffc59cc227')\"\n",
              "              title=\"Convert this dataframe to an interactive table.\"\n",
              "              style=\"display:none;\">\n",
              "        \n",
              "  <svg xmlns=\"http://www.w3.org/2000/svg\" height=\"24px\"viewBox=\"0 0 24 24\"\n",
              "       width=\"24px\">\n",
              "    <path d=\"M0 0h24v24H0V0z\" fill=\"none\"/>\n",
              "    <path d=\"M18.56 5.44l.94 2.06.94-2.06 2.06-.94-2.06-.94-.94-2.06-.94 2.06-2.06.94zm-11 1L8.5 8.5l.94-2.06 2.06-.94-2.06-.94L8.5 2.5l-.94 2.06-2.06.94zm10 10l.94 2.06.94-2.06 2.06-.94-2.06-.94-.94-2.06-.94 2.06-2.06.94z\"/><path d=\"M17.41 7.96l-1.37-1.37c-.4-.4-.92-.59-1.43-.59-.52 0-1.04.2-1.43.59L10.3 9.45l-7.72 7.72c-.78.78-.78 2.05 0 2.83L4 21.41c.39.39.9.59 1.41.59.51 0 1.02-.2 1.41-.59l7.78-7.78 2.81-2.81c.8-.78.8-2.07 0-2.86zM5.41 20L4 18.59l7.72-7.72 1.47 1.35L5.41 20z\"/>\n",
              "  </svg>\n",
              "      </button>\n",
              "      \n",
              "  <style>\n",
              "    .colab-df-container {\n",
              "      display:flex;\n",
              "      flex-wrap:wrap;\n",
              "      gap: 12px;\n",
              "    }\n",
              "\n",
              "    .colab-df-convert {\n",
              "      background-color: #E8F0FE;\n",
              "      border: none;\n",
              "      border-radius: 50%;\n",
              "      cursor: pointer;\n",
              "      display: none;\n",
              "      fill: #1967D2;\n",
              "      height: 32px;\n",
              "      padding: 0 0 0 0;\n",
              "      width: 32px;\n",
              "    }\n",
              "\n",
              "    .colab-df-convert:hover {\n",
              "      background-color: #E2EBFA;\n",
              "      box-shadow: 0px 1px 2px rgba(60, 64, 67, 0.3), 0px 1px 3px 1px rgba(60, 64, 67, 0.15);\n",
              "      fill: #174EA6;\n",
              "    }\n",
              "\n",
              "    [theme=dark] .colab-df-convert {\n",
              "      background-color: #3B4455;\n",
              "      fill: #D2E3FC;\n",
              "    }\n",
              "\n",
              "    [theme=dark] .colab-df-convert:hover {\n",
              "      background-color: #434B5C;\n",
              "      box-shadow: 0px 1px 3px 1px rgba(0, 0, 0, 0.15);\n",
              "      filter: drop-shadow(0px 1px 2px rgba(0, 0, 0, 0.3));\n",
              "      fill: #FFFFFF;\n",
              "    }\n",
              "  </style>\n",
              "\n",
              "      <script>\n",
              "        const buttonEl =\n",
              "          document.querySelector('#df-e2004d9e-3690-4e94-a407-a1ffc59cc227 button.colab-df-convert');\n",
              "        buttonEl.style.display =\n",
              "          google.colab.kernel.accessAllowed ? 'block' : 'none';\n",
              "\n",
              "        async function convertToInteractive(key) {\n",
              "          const element = document.querySelector('#df-e2004d9e-3690-4e94-a407-a1ffc59cc227');\n",
              "          const dataTable =\n",
              "            await google.colab.kernel.invokeFunction('convertToInteractive',\n",
              "                                                     [key], {});\n",
              "          if (!dataTable) return;\n",
              "\n",
              "          const docLinkHtml = 'Like what you see? Visit the ' +\n",
              "            '<a target=\"_blank\" href=https://colab.research.google.com/notebooks/data_table.ipynb>data table notebook</a>'\n",
              "            + ' to learn more about interactive tables.';\n",
              "          element.innerHTML = '';\n",
              "          dataTable['output_type'] = 'display_data';\n",
              "          await google.colab.output.renderOutput(dataTable, element);\n",
              "          const docLink = document.createElement('div');\n",
              "          docLink.innerHTML = docLinkHtml;\n",
              "          element.appendChild(docLink);\n",
              "        }\n",
              "      </script>\n",
              "    </div>\n",
              "  </div>\n",
              "  "
            ]
          },
          "metadata": {}
        },
        {
          "output_type": "execute_result",
          "data": {
            "text/plain": [
              "([<matplotlib.patches.Wedge at 0x7f8585fbe1d0>,\n",
              "  <matplotlib.patches.Wedge at 0x7f8585bb6e10>],\n",
              " [Text(-0.952458550050434, 0.55029329492174, 'Normal'),\n",
              "  Text(0.9524586015726061, -0.5502932057461328, 'Anomaly')],\n",
              " [Text(-0.5195228454820549, 0.3001599790482217, '83%'),\n",
              "  Text(0.5195228735850578, -0.30015993040698147, '17%')])"
            ]
          },
          "metadata": {},
          "execution_count": 76
        },
        {
          "output_type": "display_data",
          "data": {
            "text/plain": [
              "<Figure size 432x432 with 1 Axes>"
            ],
            "image/png": "[encoded data removed]"
          },
          "metadata": {}
        }
      ]
    },
    {
      "cell_type": "markdown",
      "source": [
        "* 센서 boxplot  "
      ],
      "metadata": {
        "id": "xRPAsv6XnAti"
      }
    },
    {
      "cell_type": "code",
      "source": [
        "# senosr_1~sensor_10 의 boxplot\n",
        "plt.figure(figsize = (30, 7))\n",
        "ax = sns.boxplot(data=df[sensor_cols], palette = 'Paired')\n",
        "ax.set(xlabel=\"sensors\", ylabel=\"valus\",title='Sensor_ 1~10')\n",
        "plt.xticks(rotation=45)"
      ],
      "metadata": {
        "colab": {
          "base_uri": "https://localhost:8080/",
          "height": 486
        },
        "id": "qCdzTD9f5SWz",
        "outputId": "fc1a6524-8123-4397-d71d-707a69cf1fec"
      },
      "execution_count": null,
      "outputs": [
        {
          "output_type": "execute_result",
          "data": {
            "text/plain": [
              "(array([0, 1, 2, 3, 4, 5, 6, 7, 8, 9]),\n",
              " <a list of 10 Text major ticklabel objects>)"
            ]
          },
          "metadata": {},
          "execution_count": 77
        },
        {
          "output_type": "display_data",
          "data": {
            "text/plain": [
              "<Figure size 2160x504 with 1 Axes>"
            ],
            "image/png": "[encoded data removed]"
          },
          "metadata": {
            "needs_background": "light"
          }
        }
      ]
    },
    {
      "cell_type": "markdown",
      "source": [
        "##2-2.정상 & 이상 분포 확인"
      ],
      "metadata": {
        "id": "SB-k6TBeW3nO"
      }
    },
    {
      "cell_type": "code",
      "source": [
        "#전체 데이터에서 정상, 비정상 데이터 분리하기 \n",
        "normal_df = df[df['label']==1]\n",
        "abnormal_df = df[df['label']==0]\n",
        "\n",
        "\n",
        "display(df.describe())\n",
        "display('--')\n",
        "display(normal_df.describe())\n",
        "display('--')\n",
        "display(abnormal_df.describe())\n",
        "\n",
        "#센서1~9 까지의 평균값이 10 이하인 경우 비정상이 많음. min값이 적을 수록 abnormal일 가능성이 높음 "
      ],
      "metadata": {
        "colab": {
          "base_uri": "https://localhost:8080/",
          "height": 903
        },
        "id": "7AfYp88VXYv7",
        "outputId": "99ce1720-43bf-42fc-853d-8ea7b3c4f14f"
      },
      "execution_count": null,
      "outputs": [
        {
          "output_type": "display_data",
          "data": {
            "text/plain": [
              "        sensor_1   sensor_2   sensor_3   sensor_4   sensor_5   sensor_6  \\\n",
              "count 3400.00000 3400.00000 3400.00000 3400.00000 3400.00000 3400.00000   \n",
              "mean    11.39115   11.48866   11.47649   11.38348   11.18524   10.99852   \n",
              "std      1.35528    1.48368    1.57640    1.74099    1.87517    1.88230   \n",
              "min      6.35608    5.70008    5.80968    5.60198    5.16556    5.14260   \n",
              "25%     10.52974   10.69674   10.70578   10.61089   10.29060    9.99334   \n",
              "50%     11.49532   11.63229   11.68336   11.64442   11.48869   11.27507   \n",
              "75%     12.42500   12.59696   12.65753   12.62799   12.56961   12.39994   \n",
              "max     14.73135   14.56107   15.24716   14.84943   15.24944   14.94281   \n",
              "\n",
              "        sensor_7   sensor_8   sensor_9  sensor_10      label  \n",
              "count 3400.00000 3400.00000 3400.00000 3400.00000 3400.00000  \n",
              "mean    10.91746   11.00919   11.14139   10.40251    0.83324  \n",
              "std      1.81211    1.67586    1.65594    1.62589    0.37282  \n",
              "min      4.78578    4.66189    4.47711    4.64467    0.00000  \n",
              "25%      9.90023   10.01450   10.11527    9.33719    1.00000  \n",
              "50%     11.16038   11.19943   11.26711   10.46571    1.00000  \n",
              "75%     12.23420   12.22752   12.34856   11.57678    1.00000  \n",
              "max     14.78861   15.59032   15.13125   15.91158    1.00000  "
            ],
            "text/html": [
              "\n",
              "  <div id=\"df-2bb2e6df-1bdb-4bde-83b8-3fd16224577a\">\n",
              "    <div class=\"colab-df-container\">\n",
              "      <div>\n",
              "<style scoped>\n",
              "    .dataframe tbody tr th:only-of-type {\n",
              "        vertical-align: middle;\n",
              "    }\n",
              "\n",
              "    .dataframe tbody tr th {\n",
              "        vertical-align: top;\n",
              "    }\n",
              "\n",
              "    .dataframe thead th {\n",
              "        text-align: right;\n",
              "    }\n",
              "</style>\n",
              "<table border=\"1\" class=\"dataframe\">\n",
              "  <thead>\n",
              "    <tr style=\"text-align: right;\">\n",
              "      <th></th>\n",
              "      <th>sensor_1</th>\n",
              "      <th>sensor_2</th>\n",
              "      <th>sensor_3</th>\n",
              "      <th>sensor_4</th>\n",
              "      <th>sensor_5</th>\n",
              "      <th>sensor_6</th>\n",
              "      <th>sensor_7</th>\n",
              "      <th>sensor_8</th>\n",
              "      <th>sensor_9</th>\n",
              "      <th>sensor_10</th>\n",
              "      <th>label</th>\n",
              "    </tr>\n",
              "  </thead>\n",
              "  <tbody>\n",
              "    <tr>\n",
              "      <th>count</th>\n",
              "      <td>3400.00000</td>\n",
              "      <td>3400.00000</td>\n",
              "      <td>3400.00000</td>\n",
              "      <td>3400.00000</td>\n",
              "      <td>3400.00000</td>\n",
              "      <td>3400.00000</td>\n",
              "      <td>3400.00000</td>\n",
              "      <td>3400.00000</td>\n",
              "      <td>3400.00000</td>\n",
              "      <td>3400.00000</td>\n",
              "      <td>3400.00000</td>\n",
              "    </tr>\n",
              "    <tr>\n",
              "      <th>mean</th>\n",
              "      <td>11.39115</td>\n",
              "      <td>11.48866</td>\n",
              "      <td>11.47649</td>\n",
              "      <td>11.38348</td>\n",
              "      <td>11.18524</td>\n",
              "      <td>10.99852</td>\n",
              "      <td>10.91746</td>\n",
              "      <td>11.00919</td>\n",
              "      <td>11.14139</td>\n",
              "      <td>10.40251</td>\n",
              "      <td>0.83324</td>\n",
              "    </tr>\n",
              "    <tr>\n",
              "      <th>std</th>\n",
              "      <td>1.35528</td>\n",
              "      <td>1.48368</td>\n",
              "      <td>1.57640</td>\n",
              "      <td>1.74099</td>\n",
              "      <td>1.87517</td>\n",
              "      <td>1.88230</td>\n",
              "      <td>1.81211</td>\n",
              "      <td>1.67586</td>\n",
              "      <td>1.65594</td>\n",
              "      <td>1.62589</td>\n",
              "      <td>0.37282</td>\n",
              "    </tr>\n",
              "    <tr>\n",
              "      <th>min</th>\n",
              "      <td>6.35608</td>\n",
              "      <td>5.70008</td>\n",
              "      <td>5.80968</td>\n",
              "      <td>5.60198</td>\n",
              "      <td>5.16556</td>\n",
              "      <td>5.14260</td>\n",
              "      <td>4.78578</td>\n",
              "      <td>4.66189</td>\n",
              "      <td>4.47711</td>\n",
              "      <td>4.64467</td>\n",
              "      <td>0.00000</td>\n",
              "    </tr>\n",
              "    <tr>\n",
              "      <th>25%</th>\n",
              "      <td>10.52974</td>\n",
              "      <td>10.69674</td>\n",
              "      <td>10.70578</td>\n",
              "      <td>10.61089</td>\n",
              "      <td>10.29060</td>\n",
              "      <td>9.99334</td>\n",
              "      <td>9.90023</td>\n",
              "      <td>10.01450</td>\n",
              "      <td>10.11527</td>\n",
              "      <td>9.33719</td>\n",
              "      <td>1.00000</td>\n",
              "    </tr>\n",
              "    <tr>\n",
              "      <th>50%</th>\n",
              "      <td>11.49532</td>\n",
              "      <td>11.63229</td>\n",
              "      <td>11.68336</td>\n",
              "      <td>11.64442</td>\n",
              "      <td>11.48869</td>\n",
              "      <td>11.27507</td>\n",
              "      <td>11.16038</td>\n",
              "      <td>11.19943</td>\n",
              "      <td>11.26711</td>\n",
              "      <td>10.46571</td>\n",
              "      <td>1.00000</td>\n",
              "    </tr>\n",
              "    <tr>\n",
              "      <th>75%</th>\n",
              "      <td>12.42500</td>\n",
              "      <td>12.59696</td>\n",
              "      <td>12.65753</td>\n",
              "      <td>12.62799</td>\n",
              "      <td>12.56961</td>\n",
              "      <td>12.39994</td>\n",
              "      <td>12.23420</td>\n",
              "      <td>12.22752</td>\n",
              "      <td>12.34856</td>\n",
              "      <td>11.57678</td>\n",
              "      <td>1.00000</td>\n",
              "    </tr>\n",
              "    <tr>\n",
              "      <th>max</th>\n",
              "      <td>14.73135</td>\n",
              "      <td>14.56107</td>\n",
              "      <td>15.24716</td>\n",
              "      <td>14.84943</td>\n",
              "      <td>15.24944</td>\n",
              "      <td>14.94281</td>\n",
              "      <td>14.78861</td>\n",
              "      <td>15.59032</td>\n",
              "      <td>15.13125</td>\n",
              "      <td>15.91158</td>\n",
              "      <td>1.00000</td>\n",
              "    </tr>\n",
              "  </tbody>\n",
              "</table>\n",
              "</div>\n",
              "      <button class=\"colab-df-convert\" onclick=\"convertToInteractive('df-2bb2e6df-1bdb-4bde-83b8-3fd16224577a')\"\n",
              "              title=\"Convert this dataframe to an interactive table.\"\n",
              "              style=\"display:none;\">\n",
              "        \n",
              "  <svg xmlns=\"http://www.w3.org/2000/svg\" height=\"24px\"viewBox=\"0 0 24 24\"\n",
              "       width=\"24px\">\n",
              "    <path d=\"M0 0h24v24H0V0z\" fill=\"none\"/>\n",
              "    <path d=\"M18.56 5.44l.94 2.06.94-2.06 2.06-.94-2.06-.94-.94-2.06-.94 2.06-2.06.94zm-11 1L8.5 8.5l.94-2.06 2.06-.94-2.06-.94L8.5 2.5l-.94 2.06-2.06.94zm10 10l.94 2.06.94-2.06 2.06-.94-2.06-.94-.94-2.06-.94 2.06-2.06.94z\"/><path d=\"M17.41 7.96l-1.37-1.37c-.4-.4-.92-.59-1.43-.59-.52 0-1.04.2-1.43.59L10.3 9.45l-7.72 7.72c-.78.78-.78 2.05 0 2.83L4 21.41c.39.39.9.59 1.41.59.51 0 1.02-.2 1.41-.59l7.78-7.78 2.81-2.81c.8-.78.8-2.07 0-2.86zM5.41 20L4 18.59l7.72-7.72 1.47 1.35L5.41 20z\"/>\n",
              "  </svg>\n",
              "      </button>\n",
              "      \n",
              "  <style>\n",
              "    .colab-df-container {\n",
              "      display:flex;\n",
              "      flex-wrap:wrap;\n",
              "      gap: 12px;\n",
              "    }\n",
              "\n",
              "    .colab-df-convert {\n",
              "      background-color: #E8F0FE;\n",
              "      border: none;\n",
              "      border-radius: 50%;\n",
              "      cursor: pointer;\n",
              "      display: none;\n",
              "      fill: #1967D2;\n",
              "      height: 32px;\n",
              "      padding: 0 0 0 0;\n",
              "      width: 32px;\n",
              "    }\n",
              "\n",
              "    .colab-df-convert:hover {\n",
              "      background-color: #E2EBFA;\n",
              "      box-shadow: 0px 1px 2px rgba(60, 64, 67, 0.3), 0px 1px 3px 1px rgba(60, 64, 67, 0.15);\n",
              "      fill: #174EA6;\n",
              "    }\n",
              "\n",
              "    [theme=dark] .colab-df-convert {\n",
              "      background-color: #3B4455;\n",
              "      fill: #D2E3FC;\n",
              "    }\n",
              "\n",
              "    [theme=dark] .colab-df-convert:hover {\n",
              "      background-color: #434B5C;\n",
              "      box-shadow: 0px 1px 3px 1px rgba(0, 0, 0, 0.15);\n",
              "      filter: drop-shadow(0px 1px 2px rgba(0, 0, 0, 0.3));\n",
              "      fill: #FFFFFF;\n",
              "    }\n",
              "  </style>\n",
              "\n",
              "      <script>\n",
              "        const buttonEl =\n",
              "          document.querySelector('#df-2bb2e6df-1bdb-4bde-83b8-3fd16224577a button.colab-df-convert');\n",
              "        buttonEl.style.display =\n",
              "          google.colab.kernel.accessAllowed ? 'block' : 'none';\n",
              "\n",
              "        async function convertToInteractive(key) {\n",
              "          const element = document.querySelector('#df-2bb2e6df-1bdb-4bde-83b8-3fd16224577a');\n",
              "          const dataTable =\n",
              "            await google.colab.kernel.invokeFunction('convertToInteractive',\n",
              "                                                     [key], {});\n",
              "          if (!dataTable) return;\n",
              "\n",
              "          const docLinkHtml = 'Like what you see? Visit the ' +\n",
              "            '<a target=\"_blank\" href=https://colab.research.google.com/notebooks/data_table.ipynb>data table notebook</a>'\n",
              "            + ' to learn more about interactive tables.';\n",
              "          element.innerHTML = '';\n",
              "          dataTable['output_type'] = 'display_data';\n",
              "          await google.colab.output.renderOutput(dataTable, element);\n",
              "          const docLink = document.createElement('div');\n",
              "          docLink.innerHTML = docLinkHtml;\n",
              "          element.appendChild(docLink);\n",
              "        }\n",
              "      </script>\n",
              "    </div>\n",
              "  </div>\n",
              "  "
            ]
          },
          "metadata": {}
        },
        {
          "output_type": "display_data",
          "data": {
            "text/plain": [
              "'--'"
            ],
            "application/vnd.google.colaboratory.intrinsic+json": {
              "type": "string"
            }
          },
          "metadata": {}
        },
        {
          "output_type": "display_data",
          "data": {
            "text/plain": [
              "        sensor_1   sensor_2   sensor_3   sensor_4   sensor_5   sensor_6  \\\n",
              "count 2833.00000 2833.00000 2833.00000 2833.00000 2833.00000 2833.00000   \n",
              "mean    11.69176   11.88962   11.94560   11.91722   11.75243   11.54112   \n",
              "std      1.10853    1.07442    1.07738    1.16857    1.28795    1.37443   \n",
              "min      7.88798    8.41477    7.89510    7.72516    7.30832    7.02279   \n",
              "25%     10.87043   11.07174   11.14163   11.08989   10.91425   10.64421   \n",
              "50%     11.73068   11.90364   11.95818   11.92226   11.80002   11.62335   \n",
              "75%     12.55844   12.72529   12.77993   12.80663   12.73611   12.57890   \n",
              "max     14.73135   14.56107   15.24716   14.84943   15.24944   14.94281   \n",
              "\n",
              "        sensor_7   sensor_8   sensor_9  sensor_10      label  \n",
              "count 2833.00000 2833.00000 2833.00000 2833.00000 2833.00000  \n",
              "mean    11.40032   11.39413   11.47471   10.38398    1.00000  \n",
              "std      1.38039    1.36332    1.40012    1.57592    0.00000  \n",
              "min      6.24133    5.82104    5.60175    4.75929    1.00000  \n",
              "25%     10.51528   10.52126   10.51659    9.32574    1.00000  \n",
              "50%     11.46201   11.46913   11.51979   10.43563    1.00000  \n",
              "75%     12.39773   12.38066   12.50465   11.51619    1.00000  \n",
              "max     14.78861   14.70930   15.13125   14.60814    1.00000  "
            ],
            "text/html": [
              "\n",
              "  <div id=\"df-d16a135f-7ad1-474c-af4b-d6ba7a6bec3b\">\n",
              "    <div class=\"colab-df-container\">\n",
              "      <div>\n",
              "<style scoped>\n",
              "    .dataframe tbody tr th:only-of-type {\n",
              "        vertical-align: middle;\n",
              "    }\n",
              "\n",
              "    .dataframe tbody tr th {\n",
              "        vertical-align: top;\n",
              "    }\n",
              "\n",
              "    .dataframe thead th {\n",
              "        text-align: right;\n",
              "    }\n",
              "</style>\n",
              "<table border=\"1\" class=\"dataframe\">\n",
              "  <thead>\n",
              "    <tr style=\"text-align: right;\">\n",
              "      <th></th>\n",
              "      <th>sensor_1</th>\n",
              "      <th>sensor_2</th>\n",
              "      <th>sensor_3</th>\n",
              "      <th>sensor_4</th>\n",
              "      <th>sensor_5</th>\n",
              "      <th>sensor_6</th>\n",
              "      <th>sensor_7</th>\n",
              "      <th>sensor_8</th>\n",
              "      <th>sensor_9</th>\n",
              "      <th>sensor_10</th>\n",
              "      <th>label</th>\n",
              "    </tr>\n",
              "  </thead>\n",
              "  <tbody>\n",
              "    <tr>\n",
              "      <th>count</th>\n",
              "      <td>2833.00000</td>\n",
              "      <td>2833.00000</td>\n",
              "      <td>2833.00000</td>\n",
              "      <td>2833.00000</td>\n",
              "      <td>2833.00000</td>\n",
              "      <td>2833.00000</td>\n",
              "      <td>2833.00000</td>\n",
              "      <td>2833.00000</td>\n",
              "      <td>2833.00000</td>\n",
              "      <td>2833.00000</td>\n",
              "      <td>2833.00000</td>\n",
              "    </tr>\n",
              "    <tr>\n",
              "      <th>mean</th>\n",
              "      <td>11.69176</td>\n",
              "      <td>11.88962</td>\n",
              "      <td>11.94560</td>\n",
              "      <td>11.91722</td>\n",
              "      <td>11.75243</td>\n",
              "      <td>11.54112</td>\n",
              "      <td>11.40032</td>\n",
              "      <td>11.39413</td>\n",
              "      <td>11.47471</td>\n",
              "      <td>10.38398</td>\n",
              "      <td>1.00000</td>\n",
              "    </tr>\n",
              "    <tr>\n",
              "      <th>std</th>\n",
              "      <td>1.10853</td>\n",
              "      <td>1.07442</td>\n",
              "      <td>1.07738</td>\n",
              "      <td>1.16857</td>\n",
              "      <td>1.28795</td>\n",
              "      <td>1.37443</td>\n",
              "      <td>1.38039</td>\n",
              "      <td>1.36332</td>\n",
              "      <td>1.40012</td>\n",
              "      <td>1.57592</td>\n",
              "      <td>0.00000</td>\n",
              "    </tr>\n",
              "    <tr>\n",
              "      <th>min</th>\n",
              "      <td>7.88798</td>\n",
              "      <td>8.41477</td>\n",
              "      <td>7.89510</td>\n",
              "      <td>7.72516</td>\n",
              "      <td>7.30832</td>\n",
              "      <td>7.02279</td>\n",
              "      <td>6.24133</td>\n",
              "      <td>5.82104</td>\n",
              "      <td>5.60175</td>\n",
              "      <td>4.75929</td>\n",
              "      <td>1.00000</td>\n",
              "    </tr>\n",
              "    <tr>\n",
              "      <th>25%</th>\n",
              "      <td>10.87043</td>\n",
              "      <td>11.07174</td>\n",
              "      <td>11.14163</td>\n",
              "      <td>11.08989</td>\n",
              "      <td>10.91425</td>\n",
              "      <td>10.64421</td>\n",
              "      <td>10.51528</td>\n",
              "      <td>10.52126</td>\n",
              "      <td>10.51659</td>\n",
              "      <td>9.32574</td>\n",
              "      <td>1.00000</td>\n",
              "    </tr>\n",
              "    <tr>\n",
              "      <th>50%</th>\n",
              "      <td>11.73068</td>\n",
              "      <td>11.90364</td>\n",
              "      <td>11.95818</td>\n",
              "      <td>11.92226</td>\n",
              "      <td>11.80002</td>\n",
              "      <td>11.62335</td>\n",
              "      <td>11.46201</td>\n",
              "      <td>11.46913</td>\n",
              "      <td>11.51979</td>\n",
              "      <td>10.43563</td>\n",
              "      <td>1.00000</td>\n",
              "    </tr>\n",
              "    <tr>\n",
              "      <th>75%</th>\n",
              "      <td>12.55844</td>\n",
              "      <td>12.72529</td>\n",
              "      <td>12.77993</td>\n",
              "      <td>12.80663</td>\n",
              "      <td>12.73611</td>\n",
              "      <td>12.57890</td>\n",
              "      <td>12.39773</td>\n",
              "      <td>12.38066</td>\n",
              "      <td>12.50465</td>\n",
              "      <td>11.51619</td>\n",
              "      <td>1.00000</td>\n",
              "    </tr>\n",
              "    <tr>\n",
              "      <th>max</th>\n",
              "      <td>14.73135</td>\n",
              "      <td>14.56107</td>\n",
              "      <td>15.24716</td>\n",
              "      <td>14.84943</td>\n",
              "      <td>15.24944</td>\n",
              "      <td>14.94281</td>\n",
              "      <td>14.78861</td>\n",
              "      <td>14.70930</td>\n",
              "      <td>15.13125</td>\n",
              "      <td>14.60814</td>\n",
              "      <td>1.00000</td>\n",
              "    </tr>\n",
              "  </tbody>\n",
              "</table>\n",
              "</div>\n",
              "      <button class=\"colab-df-convert\" onclick=\"convertToInteractive('df-d16a135f-7ad1-474c-af4b-d6ba7a6bec3b')\"\n",
              "              title=\"Convert this dataframe to an interactive table.\"\n",
              "              style=\"display:none;\">\n",
              "        \n",
              "  <svg xmlns=\"http://www.w3.org/2000/svg\" height=\"24px\"viewBox=\"0 0 24 24\"\n",
              "       width=\"24px\">\n",
              "    <path d=\"M0 0h24v24H0V0z\" fill=\"none\"/>\n",
              "    <path d=\"M18.56 5.44l.94 2.06.94-2.06 2.06-.94-2.06-.94-.94-2.06-.94 2.06-2.06.94zm-11 1L8.5 8.5l.94-2.06 2.06-.94-2.06-.94L8.5 2.5l-.94 2.06-2.06.94zm10 10l.94 2.06.94-2.06 2.06-.94-2.06-.94-.94-2.06-.94 2.06-2.06.94z\"/><path d=\"M17.41 7.96l-1.37-1.37c-.4-.4-.92-.59-1.43-.59-.52 0-1.04.2-1.43.59L10.3 9.45l-7.72 7.72c-.78.78-.78 2.05 0 2.83L4 21.41c.39.39.9.59 1.41.59.51 0 1.02-.2 1.41-.59l7.78-7.78 2.81-2.81c.8-.78.8-2.07 0-2.86zM5.41 20L4 18.59l7.72-7.72 1.47 1.35L5.41 20z\"/>\n",
              "  </svg>\n",
              "      </button>\n",
              "      \n",
              "  <style>\n",
              "    .colab-df-container {\n",
              "      display:flex;\n",
              "      flex-wrap:wrap;\n",
              "      gap: 12px;\n",
              "    }\n",
              "\n",
              "    .colab-df-convert {\n",
              "      background-color: #E8F0FE;\n",
              "      border: none;\n",
              "      border-radius: 50%;\n",
              "      cursor: pointer;\n",
              "      display: none;\n",
              "      fill: #1967D2;\n",
              "      height: 32px;\n",
              "      padding: 0 0 0 0;\n",
              "      width: 32px;\n",
              "    }\n",
              "\n",
              "    .colab-df-convert:hover {\n",
              "      background-color: #E2EBFA;\n",
              "      box-shadow: 0px 1px 2px rgba(60, 64, 67, 0.3), 0px 1px 3px 1px rgba(60, 64, 67, 0.15);\n",
              "      fill: #174EA6;\n",
              "    }\n",
              "\n",
              "    [theme=dark] .colab-df-convert {\n",
              "      background-color: #3B4455;\n",
              "      fill: #D2E3FC;\n",
              "    }\n",
              "\n",
              "    [theme=dark] .colab-df-convert:hover {\n",
              "      background-color: #434B5C;\n",
              "      box-shadow: 0px 1px 3px 1px rgba(0, 0, 0, 0.15);\n",
              "      filter: drop-shadow(0px 1px 2px rgba(0, 0, 0, 0.3));\n",
              "      fill: #FFFFFF;\n",
              "    }\n",
              "  </style>\n",
              "\n",
              "      <script>\n",
              "        const buttonEl =\n",
              "          document.querySelector('#df-d16a135f-7ad1-474c-af4b-d6ba7a6bec3b button.colab-df-convert');\n",
              "        buttonEl.style.display =\n",
              "          google.colab.kernel.accessAllowed ? 'block' : 'none';\n",
              "\n",
              "        async function convertToInteractive(key) {\n",
              "          const element = document.querySelector('#df-d16a135f-7ad1-474c-af4b-d6ba7a6bec3b');\n",
              "          const dataTable =\n",
              "            await google.colab.kernel.invokeFunction('convertToInteractive',\n",
              "                                                     [key], {});\n",
              "          if (!dataTable) return;\n",
              "\n",
              "          const docLinkHtml = 'Like what you see? Visit the ' +\n",
              "            '<a target=\"_blank\" href=https://colab.research.google.com/notebooks/data_table.ipynb>data table notebook</a>'\n",
              "            + ' to learn more about interactive tables.';\n",
              "          element.innerHTML = '';\n",
              "          dataTable['output_type'] = 'display_data';\n",
              "          await google.colab.output.renderOutput(dataTable, element);\n",
              "          const docLink = document.createElement('div');\n",
              "          docLink.innerHTML = docLinkHtml;\n",
              "          element.appendChild(docLink);\n",
              "        }\n",
              "      </script>\n",
              "    </div>\n",
              "  </div>\n",
              "  "
            ]
          },
          "metadata": {}
        },
        {
          "output_type": "display_data",
          "data": {
            "text/plain": [
              "'--'"
            ],
            "application/vnd.google.colaboratory.intrinsic+json": {
              "type": "string"
            }
          },
          "metadata": {}
        },
        {
          "output_type": "display_data",
          "data": {
            "text/plain": [
              "       sensor_1  sensor_2  sensor_3  sensor_4  sensor_5  sensor_6  sensor_7  \\\n",
              "count 567.00000 567.00000 567.00000 567.00000 567.00000 567.00000 567.00000   \n",
              "mean    9.88920   9.48528   9.13258   8.71667   8.35129   8.28743   8.50486   \n",
              "std     1.47302   1.61806   1.58443   1.67909   1.77779   1.72874   1.78547   \n",
              "min     6.35608   5.70008   5.80968   5.60198   5.16556   5.14260   4.78578   \n",
              "25%     8.92351   8.25148   7.96130   7.52630   7.01270   7.08708   7.25023   \n",
              "50%     9.81043   9.35556   9.01940   8.55432   8.04731   7.97391   8.25577   \n",
              "75%    10.84699  10.51809  10.07584   9.49801   9.26446   9.01186   9.52182   \n",
              "max    14.26611  14.08335  14.08239  14.09881  13.69334  14.11889  14.20795   \n",
              "\n",
              "       sensor_8  sensor_9  sensor_10     label  \n",
              "count 567.00000 567.00000  567.00000 567.00000  \n",
              "mean    9.08582   9.47601   10.49511   0.00000  \n",
              "std     1.76592   1.82327    1.85428   0.00000  \n",
              "min     4.66189   4.47711    4.64467   0.00000  \n",
              "25%     7.73099   8.32408    9.41385   0.00000  \n",
              "50%     9.00214   9.49649   10.59224   0.00000  \n",
              "75%    10.25650  10.63974   11.91248   0.00000  \n",
              "max    15.59032  14.42669   15.91158   0.00000  "
            ],
            "text/html": [
              "\n",
              "  <div id=\"df-16a048da-d786-4c3c-b43a-250cf48561b3\">\n",
              "    <div class=\"colab-df-container\">\n",
              "      <div>\n",
              "<style scoped>\n",
              "    .dataframe tbody tr th:only-of-type {\n",
              "        vertical-align: middle;\n",
              "    }\n",
              "\n",
              "    .dataframe tbody tr th {\n",
              "        vertical-align: top;\n",
              "    }\n",
              "\n",
              "    .dataframe thead th {\n",
              "        text-align: right;\n",
              "    }\n",
              "</style>\n",
              "<table border=\"1\" class=\"dataframe\">\n",
              "  <thead>\n",
              "    <tr style=\"text-align: right;\">\n",
              "      <th></th>\n",
              "      <th>sensor_1</th>\n",
              "      <th>sensor_2</th>\n",
              "      <th>sensor_3</th>\n",
              "      <th>sensor_4</th>\n",
              "      <th>sensor_5</th>\n",
              "      <th>sensor_6</th>\n",
              "      <th>sensor_7</th>\n",
              "      <th>sensor_8</th>\n",
              "      <th>sensor_9</th>\n",
              "      <th>sensor_10</th>\n",
              "      <th>label</th>\n",
              "    </tr>\n",
              "  </thead>\n",
              "  <tbody>\n",
              "    <tr>\n",
              "      <th>count</th>\n",
              "      <td>567.00000</td>\n",
              "      <td>567.00000</td>\n",
              "      <td>567.00000</td>\n",
              "      <td>567.00000</td>\n",
              "      <td>567.00000</td>\n",
              "      <td>567.00000</td>\n",
              "      <td>567.00000</td>\n",
              "      <td>567.00000</td>\n",
              "      <td>567.00000</td>\n",
              "      <td>567.00000</td>\n",
              "      <td>567.00000</td>\n",
              "    </tr>\n",
              "    <tr>\n",
              "      <th>mean</th>\n",
              "      <td>9.88920</td>\n",
              "      <td>9.48528</td>\n",
              "      <td>9.13258</td>\n",
              "      <td>8.71667</td>\n",
              "      <td>8.35129</td>\n",
              "      <td>8.28743</td>\n",
              "      <td>8.50486</td>\n",
              "      <td>9.08582</td>\n",
              "      <td>9.47601</td>\n",
              "      <td>10.49511</td>\n",
              "      <td>0.00000</td>\n",
              "    </tr>\n",
              "    <tr>\n",
              "      <th>std</th>\n",
              "      <td>1.47302</td>\n",
              "      <td>1.61806</td>\n",
              "      <td>1.58443</td>\n",
              "      <td>1.67909</td>\n",
              "      <td>1.77779</td>\n",
              "      <td>1.72874</td>\n",
              "      <td>1.78547</td>\n",
              "      <td>1.76592</td>\n",
              "      <td>1.82327</td>\n",
              "      <td>1.85428</td>\n",
              "      <td>0.00000</td>\n",
              "    </tr>\n",
              "    <tr>\n",
              "      <th>min</th>\n",
              "      <td>6.35608</td>\n",
              "      <td>5.70008</td>\n",
              "      <td>5.80968</td>\n",
              "      <td>5.60198</td>\n",
              "      <td>5.16556</td>\n",
              "      <td>5.14260</td>\n",
              "      <td>4.78578</td>\n",
              "      <td>4.66189</td>\n",
              "      <td>4.47711</td>\n",
              "      <td>4.64467</td>\n",
              "      <td>0.00000</td>\n",
              "    </tr>\n",
              "    <tr>\n",
              "      <th>25%</th>\n",
              "      <td>8.92351</td>\n",
              "      <td>8.25148</td>\n",
              "      <td>7.96130</td>\n",
              "      <td>7.52630</td>\n",
              "      <td>7.01270</td>\n",
              "      <td>7.08708</td>\n",
              "      <td>7.25023</td>\n",
              "      <td>7.73099</td>\n",
              "      <td>8.32408</td>\n",
              "      <td>9.41385</td>\n",
              "      <td>0.00000</td>\n",
              "    </tr>\n",
              "    <tr>\n",
              "      <th>50%</th>\n",
              "      <td>9.81043</td>\n",
              "      <td>9.35556</td>\n",
              "      <td>9.01940</td>\n",
              "      <td>8.55432</td>\n",
              "      <td>8.04731</td>\n",
              "      <td>7.97391</td>\n",
              "      <td>8.25577</td>\n",
              "      <td>9.00214</td>\n",
              "      <td>9.49649</td>\n",
              "      <td>10.59224</td>\n",
              "      <td>0.00000</td>\n",
              "    </tr>\n",
              "    <tr>\n",
              "      <th>75%</th>\n",
              "      <td>10.84699</td>\n",
              "      <td>10.51809</td>\n",
              "      <td>10.07584</td>\n",
              "      <td>9.49801</td>\n",
              "      <td>9.26446</td>\n",
              "      <td>9.01186</td>\n",
              "      <td>9.52182</td>\n",
              "      <td>10.25650</td>\n",
              "      <td>10.63974</td>\n",
              "      <td>11.91248</td>\n",
              "      <td>0.00000</td>\n",
              "    </tr>\n",
              "    <tr>\n",
              "      <th>max</th>\n",
              "      <td>14.26611</td>\n",
              "      <td>14.08335</td>\n",
              "      <td>14.08239</td>\n",
              "      <td>14.09881</td>\n",
              "      <td>13.69334</td>\n",
              "      <td>14.11889</td>\n",
              "      <td>14.20795</td>\n",
              "      <td>15.59032</td>\n",
              "      <td>14.42669</td>\n",
              "      <td>15.91158</td>\n",
              "      <td>0.00000</td>\n",
              "    </tr>\n",
              "  </tbody>\n",
              "</table>\n",
              "</div>\n",
              "      <button class=\"colab-df-convert\" onclick=\"convertToInteractive('df-16a048da-d786-4c3c-b43a-250cf48561b3')\"\n",
              "              title=\"Convert this dataframe to an interactive table.\"\n",
              "              style=\"display:none;\">\n",
              "        \n",
              "  <svg xmlns=\"http://www.w3.org/2000/svg\" height=\"24px\"viewBox=\"0 0 24 24\"\n",
              "       width=\"24px\">\n",
              "    <path d=\"M0 0h24v24H0V0z\" fill=\"none\"/>\n",
              "    <path d=\"M18.56 5.44l.94 2.06.94-2.06 2.06-.94-2.06-.94-.94-2.06-.94 2.06-2.06.94zm-11 1L8.5 8.5l.94-2.06 2.06-.94-2.06-.94L8.5 2.5l-.94 2.06-2.06.94zm10 10l.94 2.06.94-2.06 2.06-.94-2.06-.94-.94-2.06-.94 2.06-2.06.94z\"/><path d=\"M17.41 7.96l-1.37-1.37c-.4-.4-.92-.59-1.43-.59-.52 0-1.04.2-1.43.59L10.3 9.45l-7.72 7.72c-.78.78-.78 2.05 0 2.83L4 21.41c.39.39.9.59 1.41.59.51 0 1.02-.2 1.41-.59l7.78-7.78 2.81-2.81c.8-.78.8-2.07 0-2.86zM5.41 20L4 18.59l7.72-7.72 1.47 1.35L5.41 20z\"/>\n",
              "  </svg>\n",
              "      </button>\n",
              "      \n",
              "  <style>\n",
              "    .colab-df-container {\n",
              "      display:flex;\n",
              "      flex-wrap:wrap;\n",
              "      gap: 12px;\n",
              "    }\n",
              "\n",
              "    .colab-df-convert {\n",
              "      background-color: #E8F0FE;\n",
              "      border: none;\n",
              "      border-radius: 50%;\n",
              "      cursor: pointer;\n",
              "      display: none;\n",
              "      fill: #1967D2;\n",
              "      height: 32px;\n",
              "      padding: 0 0 0 0;\n",
              "      width: 32px;\n",
              "    }\n",
              "\n",
              "    .colab-df-convert:hover {\n",
              "      background-color: #E2EBFA;\n",
              "      box-shadow: 0px 1px 2px rgba(60, 64, 67, 0.3), 0px 1px 3px 1px rgba(60, 64, 67, 0.15);\n",
              "      fill: #174EA6;\n",
              "    }\n",
              "\n",
              "    [theme=dark] .colab-df-convert {\n",
              "      background-color: #3B4455;\n",
              "      fill: #D2E3FC;\n",
              "    }\n",
              "\n",
              "    [theme=dark] .colab-df-convert:hover {\n",
              "      background-color: #434B5C;\n",
              "      box-shadow: 0px 1px 3px 1px rgba(0, 0, 0, 0.15);\n",
              "      filter: drop-shadow(0px 1px 2px rgba(0, 0, 0, 0.3));\n",
              "      fill: #FFFFFF;\n",
              "    }\n",
              "  </style>\n",
              "\n",
              "      <script>\n",
              "        const buttonEl =\n",
              "          document.querySelector('#df-16a048da-d786-4c3c-b43a-250cf48561b3 button.colab-df-convert');\n",
              "        buttonEl.style.display =\n",
              "          google.colab.kernel.accessAllowed ? 'block' : 'none';\n",
              "\n",
              "        async function convertToInteractive(key) {\n",
              "          const element = document.querySelector('#df-16a048da-d786-4c3c-b43a-250cf48561b3');\n",
              "          const dataTable =\n",
              "            await google.colab.kernel.invokeFunction('convertToInteractive',\n",
              "                                                     [key], {});\n",
              "          if (!dataTable) return;\n",
              "\n",
              "          const docLinkHtml = 'Like what you see? Visit the ' +\n",
              "            '<a target=\"_blank\" href=https://colab.research.google.com/notebooks/data_table.ipynb>data table notebook</a>'\n",
              "            + ' to learn more about interactive tables.';\n",
              "          element.innerHTML = '';\n",
              "          dataTable['output_type'] = 'display_data';\n",
              "          await google.colab.output.renderOutput(dataTable, element);\n",
              "          const docLink = document.createElement('div');\n",
              "          docLink.innerHTML = docLinkHtml;\n",
              "          element.appendChild(docLink);\n",
              "        }\n",
              "      </script>\n",
              "    </div>\n",
              "  </div>\n",
              "  "
            ]
          },
          "metadata": {}
        }
      ]
    },
    {
      "cell_type": "code",
      "source": [
        "# normal senosr_1~sensor_10 의 boxplot\n",
        "plt.figure(figsize = (30, 7))\n",
        "ax = sns.boxplot(data=normal_df[sensor_cols], palette = 'Paired')\n",
        "ax.set(xlabel=\"sensors\", ylabel=\"valus\",title='Sensor_ 1~10')\n",
        "plt.xticks(rotation=45)"
      ],
      "metadata": {
        "colab": {
          "base_uri": "https://localhost:8080/",
          "height": 486
        },
        "id": "1lVceOh4W7tQ",
        "outputId": "66527a3f-f7d7-443d-a01a-3833d94482fe"
      },
      "execution_count": null,
      "outputs": [
        {
          "output_type": "execute_result",
          "data": {
            "text/plain": [
              "(array([0, 1, 2, 3, 4, 5, 6, 7, 8, 9]),\n",
              " <a list of 10 Text major ticklabel objects>)"
            ]
          },
          "metadata": {},
          "execution_count": 79
        },
        {
          "output_type": "display_data",
          "data": {
            "text/plain": [
              "<Figure size 2160x504 with 1 Axes>"
            ],
            "image/png": "[encoded data removed]"
          },
          "metadata": {
            "needs_background": "light"
          }
        }
      ]
    },
    {
      "cell_type": "code",
      "source": [
        "# abnormal senosr_1~sensor_10 의 boxplot\n",
        "plt.figure(figsize = (30, 7))\n",
        "ax = sns.boxplot(data=abnormal_df[sensor_cols], palette = 'Paired')\n",
        "ax.set(xlabel=\"sensors\", ylabel=\"valus\",title='Sensor_ 1~10')\n",
        "plt.xticks(rotation=45)"
      ],
      "metadata": {
        "colab": {
          "base_uri": "https://localhost:8080/",
          "height": 486
        },
        "id": "UIhuZGClYGdh",
        "outputId": "c49d11ad-1223-454a-96d4-3096f8821eee"
      },
      "execution_count": null,
      "outputs": [
        {
          "output_type": "execute_result",
          "data": {
            "text/plain": [
              "(array([0, 1, 2, 3, 4, 5, 6, 7, 8, 9]),\n",
              " <a list of 10 Text major ticklabel objects>)"
            ]
          },
          "metadata": {},
          "execution_count": 80
        },
        {
          "output_type": "display_data",
          "data": {
            "text/plain": [
              "<Figure size 2160x504 with 1 Axes>"
            ],
            "image/png": "[encoded data removed]"
          },
          "metadata": {
            "needs_background": "light"
          }
        }
      ]
    },
    {
      "cell_type": "markdown",
      "source": [
        "# **3. 모델링 및 평가** <br>"
      ],
      "metadata": {
        "id": "FD86lJ_6aYfi"
      }
    },
    {
      "cell_type": "markdown",
      "source": [
        "### 3-1. 훈련, 테스트 데이터 분리"
      ],
      "metadata": {
        "id": "51-7_DXsy4fs"
      }
    },
    {
      "cell_type": "code",
      "source": [
        "#모델링 라이브러리 임포트 \n",
        "from sklearn.model_selection import train_test_split\n",
        "from sklearn.preprocessing import MinMaxScaler"
      ],
      "metadata": {
        "id": "ks-L4NjdU5oH"
      },
      "execution_count": null,
      "outputs": []
    },
    {
      "cell_type": "code",
      "source": [
        "\n",
        "# 데이터의 값만 저장\n",
        "raw_data = df.values\n",
        "\n",
        "# 라벨 데이터 분리 (정상:1 비정상:0)\n",
        "labels = raw_data[:, -1]\n",
        "\n",
        "# 센서 데이터분리(sensor_1 ~ sensor_10)\n",
        "sensors = raw_data[:, 0:10]\n",
        "\n",
        "# train, test 분리\n",
        "x_train, x_test, y_train, y_test = train_test_split(\n",
        "    sensors, labels, test_size=0.2, random_state=22, stratify = labels)\n",
        "\n",
        "print('x_train data shape:',x_train.shape)\n",
        "print('x_test data shape:',x_test.shape)\n",
        "\n",
        "print('y_train label shape:',y_train.shape)\n",
        "print('y_test label shape:',y_test.shape)"
      ],
      "metadata": {
        "execution": {
          "iopub.status.busy": "2022-01-21T11:17:06.303695Z",
          "iopub.execute_input": "2022-01-21T11:17:06.303961Z",
          "iopub.status.idle": "2022-01-21T11:17:06.316283Z",
          "shell.execute_reply.started": "2022-01-21T11:17:06.303937Z",
          "shell.execute_reply": "2022-01-21T11:17:06.315689Z"
        },
        "trusted": true,
        "id": "Gfxb1R1XaYfj",
        "colab": {
          "base_uri": "https://localhost:8080/"
        },
        "outputId": "2cb75ac9-1731-4ebf-aeac-b66b2f32b82d"
      },
      "execution_count": null,
      "outputs": [
        {
          "output_type": "stream",
          "name": "stdout",
          "text": [
            "train data shape: (2720, 10)\n",
            "test data shape: (680, 10)\n",
            "train label shape: (2720,)\n",
            "test label shape: (680,)\n"
          ]
        }
      ]
    },
    {
      "cell_type": "code",
      "source": [
        "x_train"
      ],
      "metadata": {
        "colab": {
          "base_uri": "https://localhost:8080/"
        },
        "id": "sZdX-eiU4Ew9",
        "outputId": "430fa7ca-f89b-4022-ba50-c8d8adbe9045"
      },
      "execution_count": null,
      "outputs": [
        {
          "output_type": "execute_result",
          "data": {
            "text/plain": [
              "array([[10.621635  , 11.51357255, 13.00192118, ..., 11.18955512,\n",
              "        11.45453227, 11.37775435],\n",
              "       [10.50113845,  8.4175035 , 10.13849328, ...,  9.17390195,\n",
              "         9.18624216,  9.67071534],\n",
              "       [11.9469402 , 11.32738557, 10.89104661, ..., 10.97722645,\n",
              "        11.30127519,  7.99531569],\n",
              "       ...,\n",
              "       [11.69957014, 10.87135857, 11.96209793, ..., 12.71361494,\n",
              "        12.45061129, 11.24143845],\n",
              "       [12.11167061, 12.57821342, 11.19259501, ..., 12.92257274,\n",
              "        12.45554804,  7.75500925],\n",
              "       [11.06389909, 12.22464865, 10.77148065, ..., 11.37956032,\n",
              "        12.0253437 , 12.34646878]])"
            ]
          },
          "metadata": {},
          "execution_count": 83
        }
      ]
    },
    {
      "cell_type": "markdown",
      "source": [
        "* 데이터 정규화\n",
        "\n",
        ">모델의 학습성능을 높이기 위하여 일정한 범위 [0,1] 로 정규화.\n",
        "\n",
        "\n",
        "\n"
      ],
      "metadata": {
        "id": "3z1qpgldPwM_"
      }
    },
    {
      "cell_type": "code",
      "source": [
        "# MinMax 스케일링\n",
        "scaler = MinMaxScaler()\n",
        "train_data = scaler.fit_transform(x_train)\n",
        "test_data = scaler.transform(x_test)\n"
      ],
      "metadata": {
        "_kg_hide-output": true,
        "execution": {
          "iopub.status.busy": "2022-01-21T11:17:06.317362Z",
          "iopub.execute_input": "2022-01-21T11:17:06.317538Z",
          "iopub.status.idle": "2022-01-21T11:17:06.398001Z",
          "shell.execute_reply.started": "2022-01-21T11:17:06.317516Z",
          "shell.execute_reply": "2022-01-21T11:17:06.396993Z"
        },
        "trusted": true,
        "id": "EkLllVPeaYfj"
      },
      "execution_count": null,
      "outputs": []
    },
    {
      "cell_type": "code",
      "source": [
        "display(x_train)\n",
        "display('--------------'*10)\n",
        "display(x_test)"
      ],
      "metadata": {
        "colab": {
          "base_uri": "https://localhost:8080/",
          "height": 487
        },
        "id": "mAB8kAalcTrr",
        "outputId": "e5713dcb-1054-462c-9ee4-ff7bd705f948"
      },
      "execution_count": null,
      "outputs": [
        {
          "output_type": "display_data",
          "data": {
            "text/plain": [
              "array([[10.621635  , 11.51357255, 13.00192118, ..., 11.18955512,\n",
              "        11.45453227, 11.37775435],\n",
              "       [10.50113845,  8.4175035 , 10.13849328, ...,  9.17390195,\n",
              "         9.18624216,  9.67071534],\n",
              "       [11.9469402 , 11.32738557, 10.89104661, ..., 10.97722645,\n",
              "        11.30127519,  7.99531569],\n",
              "       ...,\n",
              "       [11.69957014, 10.87135857, 11.96209793, ..., 12.71361494,\n",
              "        12.45061129, 11.24143845],\n",
              "       [12.11167061, 12.57821342, 11.19259501, ..., 12.92257274,\n",
              "        12.45554804,  7.75500925],\n",
              "       [11.06389909, 12.22464865, 10.77148065, ..., 11.37956032,\n",
              "        12.0253437 , 12.34646878]])"
            ]
          },
          "metadata": {}
        },
        {
          "output_type": "display_data",
          "data": {
            "text/plain": [
              "'--------------------------------------------------------------------------------------------------------------------------------------------'"
            ],
            "application/vnd.google.colaboratory.intrinsic+json": {
              "type": "string"
            }
          },
          "metadata": {}
        },
        {
          "output_type": "display_data",
          "data": {
            "text/plain": [
              "array([[11.86269191, 13.72895127, 12.75621047, ..., 12.40919119,\n",
              "        10.38493079, 11.50387046],\n",
              "       [11.25541217,  9.32097651,  8.50263875, ...,  9.17451744,\n",
              "         8.54147472, 10.12843816],\n",
              "       [10.86183235, 10.94718686, 13.2983034 , ..., 12.7912335 ,\n",
              "        10.91427061,  9.18205507],\n",
              "       ...,\n",
              "       [12.90194623, 11.40180111, 12.18182023, ..., 11.80929869,\n",
              "        10.3677424 ,  9.02614413],\n",
              "       [10.15864433,  9.31628527,  9.63311998, ..., 12.28429704,\n",
              "        12.04797569, 12.21597212],\n",
              "       [10.42361153, 11.22125265, 10.51388401, ..., 10.57948483,\n",
              "        11.60325488,  9.969149  ]])"
            ]
          },
          "metadata": {}
        }
      ]
    },
    {
      "cell_type": "markdown",
      "source": [
        "##3-2.모델 학습 및 평가"
      ],
      "metadata": {
        "id": "7jNjxn_4c38S"
      }
    },
    {
      "cell_type": "code",
      "source": [
        "#모델 임포트 \n",
        "from sklearn.linear_model import LogisticRegression\n",
        "from sklearn.svm import SVC\n",
        "from sklearn.ensemble import RandomForestClassifier\n",
        "from sklearn.metrics import classification_report"
      ],
      "metadata": {
        "id": "WSUHOpwfeZ2U"
      },
      "execution_count": null,
      "outputs": []
    },
    {
      "cell_type": "markdown",
      "source": [
        "###3-2.1 로지스틱 리그레션 \n"
      ],
      "metadata": {
        "id": "4cdKWMPWszSQ"
      }
    },
    {
      "cell_type": "code",
      "source": [
        "#로지스틱 리그레션 훈련 \n",
        "lr = LogisticRegression(random_state=1234)\n",
        "lr.fit(x_train, y_train)"
      ],
      "metadata": {
        "colab": {
          "base_uri": "https://localhost:8080/"
        },
        "id": "PxI4qNFNs-39",
        "outputId": "d175eed8-b18e-4d6b-e943-48837332b20f"
      },
      "execution_count": null,
      "outputs": [
        {
          "output_type": "execute_result",
          "data": {
            "text/plain": [
              "LogisticRegression(random_state=1234)"
            ]
          },
          "metadata": {},
          "execution_count": 87
        }
      ]
    },
    {
      "cell_type": "code",
      "source": [
        "y_pred_train = lr.predict(x_train)\n",
        "y_pred_test = lr.predict(x_test)"
      ],
      "metadata": {
        "id": "Xu_--AhwtJaG"
      },
      "execution_count": null,
      "outputs": []
    },
    {
      "cell_type": "code",
      "source": [
        "lr_train_report =  classification_report(y_train, y_pred_train)\n",
        "lr_test_report = classification_report(y_test, y_pred_test)\n",
        "\n",
        "print(lr_train_report)\n",
        "print('**'*50)\n",
        "print(lr_test_report)\n"
      ],
      "metadata": {
        "colab": {
          "base_uri": "https://localhost:8080/"
        },
        "id": "qosRDtcztSgO",
        "outputId": "eb9261dc-7377-43c6-817e-00b887959833"
      },
      "execution_count": null,
      "outputs": [
        {
          "output_type": "stream",
          "name": "stdout",
          "text": [
            "              precision    recall  f1-score   support\n",
            "\n",
            "         0.0       1.00      0.87      0.93       454\n",
            "         1.0       0.98      1.00      0.99      2266\n",
            "\n",
            "    accuracy                           0.98      2720\n",
            "   macro avg       0.99      0.94      0.96      2720\n",
            "weighted avg       0.98      0.98      0.98      2720\n",
            "\n",
            "****************************************************************************************************\n",
            "              precision    recall  f1-score   support\n",
            "\n",
            "         0.0       0.93      0.85      0.89       113\n",
            "         1.0       0.97      0.99      0.98       567\n",
            "\n",
            "    accuracy                           0.96       680\n",
            "   macro avg       0.95      0.92      0.93       680\n",
            "weighted avg       0.96      0.96      0.96       680\n",
            "\n"
          ]
        }
      ]
    },
    {
      "cell_type": "markdown",
      "source": [
        "###3-2.2 SVM"
      ],
      "metadata": {
        "id": "E7YBW_7Otui5"
      }
    },
    {
      "cell_type": "code",
      "source": [
        "svc = SVC(random_state=1234)\n",
        "svc.fit(x_train, y_train)"
      ],
      "metadata": {
        "colab": {
          "base_uri": "https://localhost:8080/"
        },
        "id": "cNZHJqQEttJM",
        "outputId": "67e3991a-9f22-4db3-8b25-071ee27bc7eb"
      },
      "execution_count": null,
      "outputs": [
        {
          "output_type": "execute_result",
          "data": {
            "text/plain": [
              "SVC(random_state=1234)"
            ]
          },
          "metadata": {},
          "execution_count": 90
        }
      ]
    },
    {
      "cell_type": "code",
      "source": [
        "y_pred_train = svc.predict(x_train)\n",
        "y_pred_test = svc.predict(x_test)"
      ],
      "metadata": {
        "id": "Zi85ZyCduD5s"
      },
      "execution_count": null,
      "outputs": []
    },
    {
      "cell_type": "code",
      "source": [
        "sv_train_report =  classification_report(y_train, y_pred_train)\n",
        "sv_test_report = classification_report(y_test, y_pred_test)\n",
        "\n",
        "print(sv_train_report)\n",
        "print('**'*50)\n",
        "print(sv_test_report)\n"
      ],
      "metadata": {
        "colab": {
          "base_uri": "https://localhost:8080/"
        },
        "id": "pWWL_8j-uazA",
        "outputId": "0bde816c-5cb1-42de-c421-aa3f32378388"
      },
      "execution_count": null,
      "outputs": [
        {
          "output_type": "stream",
          "name": "stdout",
          "text": [
            "              precision    recall  f1-score   support\n",
            "\n",
            "         0.0       0.99      0.85      0.91       454\n",
            "         1.0       0.97      1.00      0.98      2266\n",
            "\n",
            "    accuracy                           0.97      2720\n",
            "   macro avg       0.98      0.92      0.95      2720\n",
            "weighted avg       0.97      0.97      0.97      2720\n",
            "\n",
            "****************************************************************************************************\n",
            "              precision    recall  f1-score   support\n",
            "\n",
            "         0.0       0.94      0.88      0.91       113\n",
            "         1.0       0.98      0.99      0.98       567\n",
            "\n",
            "    accuracy                           0.97       680\n",
            "   macro avg       0.96      0.93      0.95       680\n",
            "weighted avg       0.97      0.97      0.97       680\n",
            "\n"
          ]
        }
      ]
    },
    {
      "cell_type": "markdown",
      "source": [
        "###3-2.3 랜덤포레스트"
      ],
      "metadata": {
        "id": "NuvXlDYNdQwO"
      }
    },
    {
      "cell_type": "code",
      "source": [
        "rfc = RandomForestClassifier(random_state=1234)\n",
        "rfc.fit(x_train, y_train)"
      ],
      "metadata": {
        "colab": {
          "base_uri": "https://localhost:8080/"
        },
        "id": "Mr8dDJqXc81I",
        "outputId": "eb99a0b1-9e95-44f4-97e5-1a6f9454e144"
      },
      "execution_count": null,
      "outputs": [
        {
          "output_type": "execute_result",
          "data": {
            "text/plain": [
              "RandomForestClassifier(random_state=1234)"
            ]
          },
          "metadata": {},
          "execution_count": 93
        }
      ]
    },
    {
      "cell_type": "code",
      "source": [
        "#예측 \n",
        "y_pred_train = rfc.predict(x_train)\n",
        "y_pred_test = rfc.predict(x_test)\n"
      ],
      "metadata": {
        "id": "xZQaSFA3dxKF"
      },
      "execution_count": null,
      "outputs": []
    },
    {
      "cell_type": "code",
      "source": [
        "rf_train_report =  classification_report(y_train, y_pred_train)\n",
        "rf_test_report = classification_report(y_test, y_pred_test)\n",
        "\n",
        "print(rf_train_report)\n",
        "print('**'*50)\n",
        "print(rf_test_report)"
      ],
      "metadata": {
        "colab": {
          "base_uri": "https://localhost:8080/"
        },
        "id": "EffuekD00Rcr",
        "outputId": "ba2f7c5f-2ce1-40fa-ffd4-1ead8f01dc29"
      },
      "execution_count": null,
      "outputs": [
        {
          "output_type": "stream",
          "name": "stdout",
          "text": [
            "              precision    recall  f1-score   support\n",
            "\n",
            "         0.0       1.00      0.87      0.93       454\n",
            "         1.0       0.98      1.00      0.99      2266\n",
            "\n",
            "    accuracy                           0.98      2720\n",
            "   macro avg       0.99      0.94      0.96      2720\n",
            "weighted avg       0.98      0.98      0.98      2720\n",
            "\n",
            "****************************************************************************************************\n",
            "              precision    recall  f1-score   support\n",
            "\n",
            "         0.0       0.93      0.85      0.89       113\n",
            "         1.0       0.97      0.99      0.98       567\n",
            "\n",
            "    accuracy                           0.96       680\n",
            "   macro avg       0.95      0.92      0.93       680\n",
            "weighted avg       0.96      0.96      0.96       680\n",
            "\n"
          ]
        }
      ]
    },
    {
      "cell_type": "markdown",
      "source": [
        "##3.3 하이퍼파라미터 튜닝"
      ],
      "metadata": {
        "id": "eAD3BqrOuu_x"
      }
    },
    {
      "cell_type": "code",
      "source": [
        "from sklearn.model_selection import GridSearchCV\n",
        "\n",
        "params = {\n",
        "    'n_estimators' : [400,500], \n",
        "    'max_depth' : [6, 8, 10, 12]\n",
        "}\n",
        "\n",
        "rf_clf = RandomForestClassifier(random_state=1234, n_jobs=-1)\n",
        "grid_cv = GridSearchCV(rf_clf, param_grid=params, cv=3, n_jobs=-1, scoring='accuracy')\n",
        "grid_cv.fit(x_train, y_train)\n",
        "\n",
        "\n",
        "print('최적 하이퍼 파라미터: ', grid_cv.best_params_)\n",
        "print('최고 예측 정확도: {:.4f}'.format(grid_cv.best_score_))"
      ],
      "metadata": {
        "colab": {
          "base_uri": "https://localhost:8080/"
        },
        "id": "bEDIptlqu0bS",
        "outputId": "d09e0c0b-8ab1-41eb-c9bd-20d207aba17b"
      },
      "execution_count": null,
      "outputs": [
        {
          "output_type": "stream",
          "name": "stdout",
          "text": [
            "최적 하이퍼 파라미터:  {'max_depth': 6, 'n_estimators': 400}\n",
            "최고 예측 정확도: 0.9676\n"
          ]
        }
      ]
    },
    {
      "cell_type": "code",
      "source": [
        "# ▶ Best score 파라미터로 다시 재학습\n",
        "rfc = RandomForestClassifier(n_estimators=400, max_depth=6, random_state = 1234)\n",
        "rfc.fit(x_train, y_train)\n",
        "\n",
        "# ▶ 예측\n",
        "y_pred_train = rfc.predict(x_train)\n",
        "y_pred_test = rfc.predict(x_test)\n",
        "\n",
        "\n",
        "rf_train_report =  classification_report(y_train, y_pred_train)\n",
        "rf_test_report = classification_report(y_test, y_pred_test)\n"
      ],
      "metadata": {
        "id": "B8yVihJGvsBE"
      },
      "execution_count": null,
      "outputs": []
    },
    {
      "cell_type": "code",
      "source": [
        "rf_train_report =  classification_report(y_train, y_pred_train)\n",
        "rf_test_report = classification_report(y_test, y_pred_test)\n",
        "\n",
        "print(rf_train_report)\n",
        "print('**'*50)\n",
        "print(rf_test_report)"
      ],
      "metadata": {
        "colab": {
          "base_uri": "https://localhost:8080/"
        },
        "id": "KiGLmfwz0v_G",
        "outputId": "5d1e2043-067d-4004-8262-88a1bba46ebc"
      },
      "execution_count": null,
      "outputs": [
        {
          "output_type": "stream",
          "name": "stdout",
          "text": [
            "              precision    recall  f1-score   support\n",
            "\n",
            "         0.0       1.00      0.87      0.93       454\n",
            "         1.0       0.98      1.00      0.99      2266\n",
            "\n",
            "    accuracy                           0.98      2720\n",
            "   macro avg       0.99      0.94      0.96      2720\n",
            "weighted avg       0.98      0.98      0.98      2720\n",
            "\n",
            "****************************************************************************************************\n",
            "              precision    recall  f1-score   support\n",
            "\n",
            "         0.0       0.93      0.85      0.89       113\n",
            "         1.0       0.97      0.99      0.98       567\n",
            "\n",
            "    accuracy                           0.96       680\n",
            "   macro avg       0.95      0.92      0.93       680\n",
            "weighted avg       0.96      0.96      0.96       680\n",
            "\n"
          ]
        }
      ]
    },
    {
      "cell_type": "markdown",
      "source": [
        "##3.4 3가지 모델 성능 비교"
      ],
      "metadata": {
        "id": "IDW-ib9a01kh"
      }
    },
    {
      "cell_type": "code",
      "source": [
        "print('############## 모델 성능 비교 ##############') \n",
        "print('############## 1. 로지스틱 회귀 ##############')\n",
        "print(lr_test_report)\n",
        "\n",
        "print('############## 2. SVM ##############')\n",
        "print(sv_test_report)\n",
        "\n",
        "print('############## 3. RandomForest ##############')\n",
        "print(rf_test_report)\n"
      ],
      "metadata": {
        "colab": {
          "base_uri": "https://localhost:8080/"
        },
        "id": "r8fUPERm1K2V",
        "outputId": "c8ba6a14-5f0d-4012-ed3f-dd65f72d986d"
      },
      "execution_count": null,
      "outputs": [
        {
          "output_type": "stream",
          "name": "stdout",
          "text": [
            "############## 모델 성능 비교 ##############\n",
            "############## 1. 로지스틱 회귀 ##############\n",
            "              precision    recall  f1-score   support\n",
            "\n",
            "         0.0       0.93      0.85      0.89       113\n",
            "         1.0       0.97      0.99      0.98       567\n",
            "\n",
            "    accuracy                           0.96       680\n",
            "   macro avg       0.95      0.92      0.93       680\n",
            "weighted avg       0.96      0.96      0.96       680\n",
            "\n",
            "############## 2. SVM ##############\n",
            "              precision    recall  f1-score   support\n",
            "\n",
            "         0.0       0.94      0.88      0.91       113\n",
            "         1.0       0.98      0.99      0.98       567\n",
            "\n",
            "    accuracy                           0.97       680\n",
            "   macro avg       0.96      0.93      0.95       680\n",
            "weighted avg       0.97      0.97      0.97       680\n",
            "\n",
            "############## 3. RandomForest ##############\n",
            "              precision    recall  f1-score   support\n",
            "\n",
            "         0.0       0.93      0.85      0.89       113\n",
            "         1.0       0.97      0.99      0.98       567\n",
            "\n",
            "    accuracy                           0.96       680\n",
            "   macro avg       0.95      0.92      0.93       680\n",
            "weighted avg       0.96      0.96      0.96       680\n",
            "\n"
          ]
        }
      ]
    }
  ]
}